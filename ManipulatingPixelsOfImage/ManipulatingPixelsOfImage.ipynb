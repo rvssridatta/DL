{
  "nbformat": 4,
  "nbformat_minor": 0,
  "metadata": {
    "colab": {
      "provenance": [],
      "authorship_tag": "ABX9TyNzh1wW47zEwuWwo9KhGcF/",
      "include_colab_link": true
    },
    "kernelspec": {
      "name": "python3",
      "display_name": "Python 3"
    },
    "language_info": {
      "name": "python"
    }
  },
  "cells": [
    {
      "cell_type": "markdown",
      "metadata": {
        "id": "view-in-github",
        "colab_type": "text"
      },
      "source": [
        "<a href=\"https://colab.research.google.com/github/rvssridatta/DL/blob/main/ManipulatingPixelsOfImage/ManipulatingPixelsOfImage.ipynb\" target=\"_parent\"><img src=\"https://colab.research.google.com/assets/colab-badge.svg\" alt=\"Open In Colab\"/></a>"
      ]
    },
    {
      "cell_type": "code",
      "execution_count": 1,
      "metadata": {
        "id": "uMIYAzksIHP0"
      },
      "outputs": [],
      "source": [
        "import cv2\n",
        "import numpy as np"
      ]
    },
    {
      "cell_type": "code",
      "source": [
        "path = '/content/3.jpg'"
      ],
      "metadata": {
        "id": "iFNwW_asIYNN"
      },
      "execution_count": 2,
      "outputs": []
    },
    {
      "cell_type": "code",
      "source": [
        "img = cv2.imread(path,cv2.IMREAD_GRAYSCALE)"
      ],
      "metadata": {
        "id": "9qnVj-myIjKQ"
      },
      "execution_count": 3,
      "outputs": []
    },
    {
      "cell_type": "markdown",
      "source": [
        "Accessing Pixel value for gray image"
      ],
      "metadata": {
        "id": "BofiX78ULXNm"
      }
    },
    {
      "cell_type": "markdown",
      "source": [],
      "metadata": {
        "id": "qmcyfELULXKr"
      }
    },
    {
      "cell_type": "code",
      "source": [
        "from google.colab.patches import cv2_imshow\n",
        "cv2_imshow(img)"
      ],
      "metadata": {
        "colab": {
          "base_uri": "https://localhost:8080/",
          "height": 319
        },
        "id": "7ju4hCyGIqF8",
        "outputId": "ba1998e9-0ea4-4745-b8e1-1afa0116ef16"
      },
      "execution_count": 7,
      "outputs": [
        {
          "output_type": "display_data",
          "data": {
            "text/plain": [
              "<PIL.Image.Image image mode=L size=241x302 at 0x7F86A6771330>"
            ],
            "image/png": "[encoded data removed]"
          },
          "metadata": {}
        }
      ]
    },
    {
      "cell_type": "code",
      "source": [
        "value = [0,0]\n",
        "print(value)\n",
        "value1 = img.item(0,0)\n",
        "print(value1)"
      ],
      "metadata": {
        "colab": {
          "base_uri": "https://localhost:8080/"
        },
        "id": "k0jvCy4CIsiD",
        "outputId": "f2f715c4-e8e4-4749-a99b-8e24616cc6a0"
      },
      "execution_count": 9,
      "outputs": [
        {
          "output_type": "stream",
          "name": "stdout",
          "text": [
            "[0, 0]\n",
            "253\n"
          ]
        }
      ]
    },
    {
      "cell_type": "code",
      "source": [
        "img[0,0]=100\n",
        "value2 = img.item(0,0)\n",
        "print(value2)"
      ],
      "metadata": {
        "colab": {
          "base_uri": "https://localhost:8080/"
        },
        "id": "auNyFGrzI8Sc",
        "outputId": "f494cfa3-dad0-4a1b-a494-a5c4d8709c92"
      },
      "execution_count": 11,
      "outputs": [
        {
          "output_type": "stream",
          "name": "stdout",
          "text": [
            "100\n"
          ]
        }
      ]
    },
    {
      "cell_type": "code",
      "source": [
        "img.itemset((0,0),50)\n",
        "value3 = img.item(0,0)\n",
        "print(value3)"
      ],
      "metadata": {
        "colab": {
          "base_uri": "https://localhost:8080/"
        },
        "id": "u-o6KAm3KeeI",
        "outputId": "eabc9e1c-dea3-46c9-c9f9-e62e50ce908b"
      },
      "execution_count": 12,
      "outputs": [
        {
          "output_type": "stream",
          "name": "stdout",
          "text": [
            "50\n"
          ]
        }
      ]
    },
    {
      "cell_type": "code",
      "source": [],
      "metadata": {
        "id": "wm-aed61LQ7Z"
      },
      "execution_count": null,
      "outputs": []
    },
    {
      "cell_type": "markdown",
      "source": [
        "Accessing pixels values for color image"
      ],
      "metadata": {
        "id": "nX9HtEwKLbh7"
      }
    },
    {
      "cell_type": "code",
      "source": [
        "img = cv2.imread(path,cv2.IMREAD_COLOR)\n",
        "value = img[75,75,:]\n",
        "print(value) #B=179 G=211 R=252"
      ],
      "metadata": {
        "colab": {
          "base_uri": "https://localhost:8080/"
        },
        "id": "RKYf6xa1LehB",
        "outputId": "cc4c4a82-4382-4faf-b3fe-2f6cedcf03c3"
      },
      "execution_count": 17,
      "outputs": [
        {
          "output_type": "stream",
          "name": "stdout",
          "text": [
            "[179 211 252]\n"
          ]
        }
      ]
    },
    {
      "cell_type": "code",
      "source": [
        "#Updating pixel values\n",
        "img[10,10,] = [25,255,255]\n",
        "value4 = img[10,10,:]\n",
        "print(value4)"
      ],
      "metadata": {
        "colab": {
          "base_uri": "https://localhost:8080/"
        },
        "id": "gcc5WlP8LpR_",
        "outputId": "a46115f1-5f57-44b4-d37f-a96afbe11513"
      },
      "execution_count": 19,
      "outputs": [
        {
          "output_type": "stream",
          "name": "stdout",
          "text": [
            "[ 25 255 255]\n"
          ]
        }
      ]
    },
    {
      "cell_type": "code",
      "source": [],
      "metadata": {
        "id": "cfbqAvCoMmiC"
      },
      "execution_count": null,
      "outputs": []
    }
  ]
}