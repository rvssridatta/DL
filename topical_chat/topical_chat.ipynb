{
  "nbformat": 4,
  "nbformat_minor": 0,
  "metadata": {
    "colab": {
      "provenance": [],
      "authorship_tag": "ABX9TyNT+umtbPgiv91yiBgk9ceW",
      "include_colab_link": true
    },
    "kernelspec": {
      "name": "python3",
      "display_name": "Python 3"
    },
    "language_info": {
      "name": "python"
    }
  },
  "cells": [
    {
      "cell_type": "markdown",
      "metadata": {
        "id": "view-in-github",
        "colab_type": "text"
      },
      "source": [
        "<a href=\"https://colab.research.google.com/github/rvssridatta/DL/blob/main/topical_chat/topical_chat.ipynb\" target=\"_parent\"><img src=\"https://colab.research.google.com/assets/colab-badge.svg\" alt=\"Open In Colab\"/></a>"
      ]
    },
    {
      "cell_type": "markdown",
      "source": [
        "#importing required modules"
      ],
      "metadata": {
        "id": "Tb0-4M4Y6fyh"
      }
    },
    {
      "cell_type": "code",
      "execution_count": 1,
      "metadata": {
        "id": "ntLsT6a0p5EK"
      },
      "outputs": [],
      "source": [
        "import numpy as np\n",
        "import pandas as pd\n",
        "from sklearn.model_selection import train_test_split"
      ]
    },
    {
      "cell_type": "code",
      "source": [
        "# url = \"https://docs.google.com/spreadsheets/d/1dFdlvgmyXfN3SriVn5Byv_BNtyroICxdgrQKBzuMA1U/\"\n"
      ],
      "metadata": {
        "id": "D4P7qNATqgLG"
      },
      "execution_count": 4,
      "outputs": []
    },
    {
      "cell_type": "markdown",
      "source": [
        "#uploading the csv file which downloaded from above URL"
      ],
      "metadata": {
        "id": "OqaE8Yu26pjs"
      }
    },
    {
      "cell_type": "code",
      "source": [
        "# df = pd.read_csv(url)\n",
        "#Read the csv file with help of pandas and store it in 'f'.\n",
        "f=pd.read_csv('/content/topical_chat.csv - Sheet1.csv',error_bad_lines=False, engine=\"python\")"
      ],
      "metadata": {
        "colab": {
          "base_uri": "https://localhost:8080/"
        },
        "id": "imLIGG33ukwb",
        "outputId": "5b276e93-6fa3-472c-8bb4-5f51939e04af"
      },
      "execution_count": 2,
      "outputs": [
        {
          "output_type": "stream",
          "name": "stderr",
          "text": [
            "<ipython-input-2-f5c0d5669029>:3: FutureWarning: The error_bad_lines argument has been deprecated and will be removed in a future version. Use on_bad_lines in the future.\n",
            "\n",
            "\n",
            "  f=pd.read_csv('/content/topical_chat.csv - Sheet1.csv',error_bad_lines=False, engine=\"python\")\n"
          ]
        }
      ]
    },
    {
      "cell_type": "code",
      "source": [
        "#printing head portion of 'f' dataframe\n",
        "f.head()"
      ],
      "metadata": {
        "colab": {
          "base_uri": "https://localhost:8080/",
          "height": 206
        },
        "id": "OCe2fBoQr5T6",
        "outputId": "3a97c3b4-99a9-44fd-ea73-5f0e73eaaf4e"
      },
      "execution_count": 3,
      "outputs": [
        {
          "output_type": "execute_result",
          "data": {
            "text/plain": [
              "   conversation_id                                            message  \\\n",
              "0                1              Are you a fan of Google or Microsoft?   \n",
              "1                1  Both are excellent technology they are helpful...   \n",
              "2                1   I'm not  a huge fan of Google, but I use it a...   \n",
              "3                1   Google provides online related services and p...   \n",
              "4                1   Yeah, their services are good. I'm just not a...   \n",
              "\n",
              "                sentiment  \n",
              "0  Curious to dive deeper  \n",
              "1  Curious to dive deeper  \n",
              "2  Curious to dive deeper  \n",
              "3  Curious to dive deeper  \n",
              "4  Curious to dive deeper  "
            ],
            "text/html": [
              "\n",
              "  <div id=\"df-0fec4c58-c361-4fde-bda0-4be292e5a83f\">\n",
              "    <div class=\"colab-df-container\">\n",
              "      <div>\n",
              "<style scoped>\n",
              "    .dataframe tbody tr th:only-of-type {\n",
              "        vertical-align: middle;\n",
              "    }\n",
              "\n",
              "    .dataframe tbody tr th {\n",
              "        vertical-align: top;\n",
              "    }\n",
              "\n",
              "    .dataframe thead th {\n",
              "        text-align: right;\n",
              "    }\n",
              "</style>\n",
              "<table border=\"1\" class=\"dataframe\">\n",
              "  <thead>\n",
              "    <tr style=\"text-align: right;\">\n",
              "      <th></th>\n",
              "      <th>conversation_id</th>\n",
              "      <th>message</th>\n",
              "      <th>sentiment</th>\n",
              "    </tr>\n",
              "  </thead>\n",
              "  <tbody>\n",
              "    <tr>\n",
              "      <th>0</th>\n",
              "      <td>1</td>\n",
              "      <td>Are you a fan of Google or Microsoft?</td>\n",
              "      <td>Curious to dive deeper</td>\n",
              "    </tr>\n",
              "    <tr>\n",
              "      <th>1</th>\n",
              "      <td>1</td>\n",
              "      <td>Both are excellent technology they are helpful...</td>\n",
              "      <td>Curious to dive deeper</td>\n",
              "    </tr>\n",
              "    <tr>\n",
              "      <th>2</th>\n",
              "      <td>1</td>\n",
              "      <td>I'm not  a huge fan of Google, but I use it a...</td>\n",
              "      <td>Curious to dive deeper</td>\n",
              "    </tr>\n",
              "    <tr>\n",
              "      <th>3</th>\n",
              "      <td>1</td>\n",
              "      <td>Google provides online related services and p...</td>\n",
              "      <td>Curious to dive deeper</td>\n",
              "    </tr>\n",
              "    <tr>\n",
              "      <th>4</th>\n",
              "      <td>1</td>\n",
              "      <td>Yeah, their services are good. I'm just not a...</td>\n",
              "      <td>Curious to dive deeper</td>\n",
              "    </tr>\n",
              "  </tbody>\n",
              "</table>\n",
              "</div>\n",
              "      <button class=\"colab-df-convert\" onclick=\"convertToInteractive('df-0fec4c58-c361-4fde-bda0-4be292e5a83f')\"\n",
              "              title=\"Convert this dataframe to an interactive table.\"\n",
              "              style=\"display:none;\">\n",
              "        \n",
              "  <svg xmlns=\"http://www.w3.org/2000/svg\" height=\"24px\"viewBox=\"0 0 24 24\"\n",
              "       width=\"24px\">\n",
              "    <path d=\"M0 0h24v24H0V0z\" fill=\"none\"/>\n",
              "    <path d=\"M18.56 5.44l.94 2.06.94-2.06 2.06-.94-2.06-.94-.94-2.06-.94 2.06-2.06.94zm-11 1L8.5 8.5l.94-2.06 2.06-.94-2.06-.94L8.5 2.5l-.94 2.06-2.06.94zm10 10l.94 2.06.94-2.06 2.06-.94-2.06-.94-.94-2.06-.94 2.06-2.06.94z\"/><path d=\"M17.41 7.96l-1.37-1.37c-.4-.4-.92-.59-1.43-.59-.52 0-1.04.2-1.43.59L10.3 9.45l-7.72 7.72c-.78.78-.78 2.05 0 2.83L4 21.41c.39.39.9.59 1.41.59.51 0 1.02-.2 1.41-.59l7.78-7.78 2.81-2.81c.8-.78.8-2.07 0-2.86zM5.41 20L4 18.59l7.72-7.72 1.47 1.35L5.41 20z\"/>\n",
              "  </svg>\n",
              "      </button>\n",
              "      \n",
              "  <style>\n",
              "    .colab-df-container {\n",
              "      display:flex;\n",
              "      flex-wrap:wrap;\n",
              "      gap: 12px;\n",
              "    }\n",
              "\n",
              "    .colab-df-convert {\n",
              "      background-color: #E8F0FE;\n",
              "      border: none;\n",
              "      border-radius: 50%;\n",
              "      cursor: pointer;\n",
              "      display: none;\n",
              "      fill: #1967D2;\n",
              "      height: 32px;\n",
              "      padding: 0 0 0 0;\n",
              "      width: 32px;\n",
              "    }\n",
              "\n",
              "    .colab-df-convert:hover {\n",
              "      background-color: #E2EBFA;\n",
              "      box-shadow: 0px 1px 2px rgba(60, 64, 67, 0.3), 0px 1px 3px 1px rgba(60, 64, 67, 0.15);\n",
              "      fill: #174EA6;\n",
              "    }\n",
              "\n",
              "    [theme=dark] .colab-df-convert {\n",
              "      background-color: #3B4455;\n",
              "      fill: #D2E3FC;\n",
              "    }\n",
              "\n",
              "    [theme=dark] .colab-df-convert:hover {\n",
              "      background-color: #434B5C;\n",
              "      box-shadow: 0px 1px 3px 1px rgba(0, 0, 0, 0.15);\n",
              "      filter: drop-shadow(0px 1px 2px rgba(0, 0, 0, 0.3));\n",
              "      fill: #FFFFFF;\n",
              "    }\n",
              "  </style>\n",
              "\n",
              "      <script>\n",
              "        const buttonEl =\n",
              "          document.querySelector('#df-0fec4c58-c361-4fde-bda0-4be292e5a83f button.colab-df-convert');\n",
              "        buttonEl.style.display =\n",
              "          google.colab.kernel.accessAllowed ? 'block' : 'none';\n",
              "\n",
              "        async function convertToInteractive(key) {\n",
              "          const element = document.querySelector('#df-0fec4c58-c361-4fde-bda0-4be292e5a83f');\n",
              "          const dataTable =\n",
              "            await google.colab.kernel.invokeFunction('convertToInteractive',\n",
              "                                                     [key], {});\n",
              "          if (!dataTable) return;\n",
              "\n",
              "          const docLinkHtml = 'Like what you see? Visit the ' +\n",
              "            '<a target=\"_blank\" href=https://colab.research.google.com/notebooks/data_table.ipynb>data table notebook</a>'\n",
              "            + ' to learn more about interactive tables.';\n",
              "          element.innerHTML = '';\n",
              "          dataTable['output_type'] = 'display_data';\n",
              "          await google.colab.output.renderOutput(dataTable, element);\n",
              "          const docLink = document.createElement('div');\n",
              "          docLink.innerHTML = docLinkHtml;\n",
              "          element.appendChild(docLink);\n",
              "        }\n",
              "      </script>\n",
              "    </div>\n",
              "  </div>\n",
              "  "
            ]
          },
          "metadata": {},
          "execution_count": 3
        }
      ]
    },
    {
      "cell_type": "markdown",
      "source": [
        "#dropping unwanted columns from dataframe and storing the new dropped dataframe in 'df' variable\n"
      ],
      "metadata": {
        "id": "pG8_Zd-V7XwU"
      }
    },
    {
      "cell_type": "code",
      "source": [
        "df = f.drop('conversation_id', axis=1)"
      ],
      "metadata": {
        "id": "amp5CU9I4TXW"
      },
      "execution_count": 4,
      "outputs": []
    },
    {
      "cell_type": "markdown",
      "source": [
        "#Checking nan values or null values"
      ],
      "metadata": {
        "id": "ypDZLCWh7VhP"
      }
    },
    {
      "cell_type": "code",
      "source": [
        "nan_rows = df[df.isnull().T.any()]"
      ],
      "metadata": {
        "id": "oCimWqmz_jOW"
      },
      "execution_count": 6,
      "outputs": []
    },
    {
      "cell_type": "code",
      "source": [
        "nan_rows"
      ],
      "metadata": {
        "colab": {
          "base_uri": "https://localhost:8080/",
          "height": 206
        },
        "id": "5wjGIm1c_pGA",
        "outputId": "60dd360a-45db-4001-d365-ee5c9f7df94d"
      },
      "execution_count": 7,
      "outputs": [
        {
          "output_type": "execute_result",
          "data": {
            "text/plain": [
              "      message               sentiment\n",
              "20124     NaN               Disgusted\n",
              "28552     NaN                   Happy\n",
              "31504     NaN               Surprised\n",
              "83361     NaN  Curious to dive deeper\n",
              "95303     NaN                   Happy"
            ],
            "text/html": [
              "\n",
              "  <div id=\"df-22473887-d76f-4397-a239-a94464c5fd99\">\n",
              "    <div class=\"colab-df-container\">\n",
              "      <div>\n",
              "<style scoped>\n",
              "    .dataframe tbody tr th:only-of-type {\n",
              "        vertical-align: middle;\n",
              "    }\n",
              "\n",
              "    .dataframe tbody tr th {\n",
              "        vertical-align: top;\n",
              "    }\n",
              "\n",
              "    .dataframe thead th {\n",
              "        text-align: right;\n",
              "    }\n",
              "</style>\n",
              "<table border=\"1\" class=\"dataframe\">\n",
              "  <thead>\n",
              "    <tr style=\"text-align: right;\">\n",
              "      <th></th>\n",
              "      <th>message</th>\n",
              "      <th>sentiment</th>\n",
              "    </tr>\n",
              "  </thead>\n",
              "  <tbody>\n",
              "    <tr>\n",
              "      <th>20124</th>\n",
              "      <td>NaN</td>\n",
              "      <td>Disgusted</td>\n",
              "    </tr>\n",
              "    <tr>\n",
              "      <th>28552</th>\n",
              "      <td>NaN</td>\n",
              "      <td>Happy</td>\n",
              "    </tr>\n",
              "    <tr>\n",
              "      <th>31504</th>\n",
              "      <td>NaN</td>\n",
              "      <td>Surprised</td>\n",
              "    </tr>\n",
              "    <tr>\n",
              "      <th>83361</th>\n",
              "      <td>NaN</td>\n",
              "      <td>Curious to dive deeper</td>\n",
              "    </tr>\n",
              "    <tr>\n",
              "      <th>95303</th>\n",
              "      <td>NaN</td>\n",
              "      <td>Happy</td>\n",
              "    </tr>\n",
              "  </tbody>\n",
              "</table>\n",
              "</div>\n",
              "      <button class=\"colab-df-convert\" onclick=\"convertToInteractive('df-22473887-d76f-4397-a239-a94464c5fd99')\"\n",
              "              title=\"Convert this dataframe to an interactive table.\"\n",
              "              style=\"display:none;\">\n",
              "        \n",
              "  <svg xmlns=\"http://www.w3.org/2000/svg\" height=\"24px\"viewBox=\"0 0 24 24\"\n",
              "       width=\"24px\">\n",
              "    <path d=\"M0 0h24v24H0V0z\" fill=\"none\"/>\n",
              "    <path d=\"M18.56 5.44l.94 2.06.94-2.06 2.06-.94-2.06-.94-.94-2.06-.94 2.06-2.06.94zm-11 1L8.5 8.5l.94-2.06 2.06-.94-2.06-.94L8.5 2.5l-.94 2.06-2.06.94zm10 10l.94 2.06.94-2.06 2.06-.94-2.06-.94-.94-2.06-.94 2.06-2.06.94z\"/><path d=\"M17.41 7.96l-1.37-1.37c-.4-.4-.92-.59-1.43-.59-.52 0-1.04.2-1.43.59L10.3 9.45l-7.72 7.72c-.78.78-.78 2.05 0 2.83L4 21.41c.39.39.9.59 1.41.59.51 0 1.02-.2 1.41-.59l7.78-7.78 2.81-2.81c.8-.78.8-2.07 0-2.86zM5.41 20L4 18.59l7.72-7.72 1.47 1.35L5.41 20z\"/>\n",
              "  </svg>\n",
              "      </button>\n",
              "      \n",
              "  <style>\n",
              "    .colab-df-container {\n",
              "      display:flex;\n",
              "      flex-wrap:wrap;\n",
              "      gap: 12px;\n",
              "    }\n",
              "\n",
              "    .colab-df-convert {\n",
              "      background-color: #E8F0FE;\n",
              "      border: none;\n",
              "      border-radius: 50%;\n",
              "      cursor: pointer;\n",
              "      display: none;\n",
              "      fill: #1967D2;\n",
              "      height: 32px;\n",
              "      padding: 0 0 0 0;\n",
              "      width: 32px;\n",
              "    }\n",
              "\n",
              "    .colab-df-convert:hover {\n",
              "      background-color: #E2EBFA;\n",
              "      box-shadow: 0px 1px 2px rgba(60, 64, 67, 0.3), 0px 1px 3px 1px rgba(60, 64, 67, 0.15);\n",
              "      fill: #174EA6;\n",
              "    }\n",
              "\n",
              "    [theme=dark] .colab-df-convert {\n",
              "      background-color: #3B4455;\n",
              "      fill: #D2E3FC;\n",
              "    }\n",
              "\n",
              "    [theme=dark] .colab-df-convert:hover {\n",
              "      background-color: #434B5C;\n",
              "      box-shadow: 0px 1px 3px 1px rgba(0, 0, 0, 0.15);\n",
              "      filter: drop-shadow(0px 1px 2px rgba(0, 0, 0, 0.3));\n",
              "      fill: #FFFFFF;\n",
              "    }\n",
              "  </style>\n",
              "\n",
              "      <script>\n",
              "        const buttonEl =\n",
              "          document.querySelector('#df-22473887-d76f-4397-a239-a94464c5fd99 button.colab-df-convert');\n",
              "        buttonEl.style.display =\n",
              "          google.colab.kernel.accessAllowed ? 'block' : 'none';\n",
              "\n",
              "        async function convertToInteractive(key) {\n",
              "          const element = document.querySelector('#df-22473887-d76f-4397-a239-a94464c5fd99');\n",
              "          const dataTable =\n",
              "            await google.colab.kernel.invokeFunction('convertToInteractive',\n",
              "                                                     [key], {});\n",
              "          if (!dataTable) return;\n",
              "\n",
              "          const docLinkHtml = 'Like what you see? Visit the ' +\n",
              "            '<a target=\"_blank\" href=https://colab.research.google.com/notebooks/data_table.ipynb>data table notebook</a>'\n",
              "            + ' to learn more about interactive tables.';\n",
              "          element.innerHTML = '';\n",
              "          dataTable['output_type'] = 'display_data';\n",
              "          await google.colab.output.renderOutput(dataTable, element);\n",
              "          const docLink = document.createElement('div');\n",
              "          docLink.innerHTML = docLinkHtml;\n",
              "          element.appendChild(docLink);\n",
              "        }\n",
              "      </script>\n",
              "    </div>\n",
              "  </div>\n",
              "  "
            ]
          },
          "metadata": {},
          "execution_count": 7
        }
      ]
    },
    {
      "cell_type": "markdown",
      "source": [
        "#since nan values are very low dropping those rows"
      ],
      "metadata": {
        "id": "Jpsnp-pj7iv7"
      }
    },
    {
      "cell_type": "code",
      "source": [
        "df =df.dropna()"
      ],
      "metadata": {
        "id": "fmzR3HwoE7qq"
      },
      "execution_count": 8,
      "outputs": []
    },
    {
      "cell_type": "code",
      "source": [
        "nan_rows1 = df[df.isnull().T.any()]"
      ],
      "metadata": {
        "id": "uWnpZC2mFaJ9"
      },
      "execution_count": 9,
      "outputs": []
    },
    {
      "cell_type": "code",
      "source": [
        "nan_rows1"
      ],
      "metadata": {
        "colab": {
          "base_uri": "https://localhost:8080/",
          "height": 49
        },
        "id": "tKqQzRlVFeY-",
        "outputId": "2a327110-e746-404a-b72d-99a0134a4153"
      },
      "execution_count": 10,
      "outputs": [
        {
          "output_type": "execute_result",
          "data": {
            "text/plain": [
              "Empty DataFrame\n",
              "Columns: [message, sentiment]\n",
              "Index: []"
            ],
            "text/html": [
              "\n",
              "  <div id=\"df-925b852a-a361-4586-b6fd-e3593589f7b9\">\n",
              "    <div class=\"colab-df-container\">\n",
              "      <div>\n",
              "<style scoped>\n",
              "    .dataframe tbody tr th:only-of-type {\n",
              "        vertical-align: middle;\n",
              "    }\n",
              "\n",
              "    .dataframe tbody tr th {\n",
              "        vertical-align: top;\n",
              "    }\n",
              "\n",
              "    .dataframe thead th {\n",
              "        text-align: right;\n",
              "    }\n",
              "</style>\n",
              "<table border=\"1\" class=\"dataframe\">\n",
              "  <thead>\n",
              "    <tr style=\"text-align: right;\">\n",
              "      <th></th>\n",
              "      <th>message</th>\n",
              "      <th>sentiment</th>\n",
              "    </tr>\n",
              "  </thead>\n",
              "  <tbody>\n",
              "  </tbody>\n",
              "</table>\n",
              "</div>\n",
              "      <button class=\"colab-df-convert\" onclick=\"convertToInteractive('df-925b852a-a361-4586-b6fd-e3593589f7b9')\"\n",
              "              title=\"Convert this dataframe to an interactive table.\"\n",
              "              style=\"display:none;\">\n",
              "        \n",
              "  <svg xmlns=\"http://www.w3.org/2000/svg\" height=\"24px\"viewBox=\"0 0 24 24\"\n",
              "       width=\"24px\">\n",
              "    <path d=\"M0 0h24v24H0V0z\" fill=\"none\"/>\n",
              "    <path d=\"M18.56 5.44l.94 2.06.94-2.06 2.06-.94-2.06-.94-.94-2.06-.94 2.06-2.06.94zm-11 1L8.5 8.5l.94-2.06 2.06-.94-2.06-.94L8.5 2.5l-.94 2.06-2.06.94zm10 10l.94 2.06.94-2.06 2.06-.94-2.06-.94-.94-2.06-.94 2.06-2.06.94z\"/><path d=\"M17.41 7.96l-1.37-1.37c-.4-.4-.92-.59-1.43-.59-.52 0-1.04.2-1.43.59L10.3 9.45l-7.72 7.72c-.78.78-.78 2.05 0 2.83L4 21.41c.39.39.9.59 1.41.59.51 0 1.02-.2 1.41-.59l7.78-7.78 2.81-2.81c.8-.78.8-2.07 0-2.86zM5.41 20L4 18.59l7.72-7.72 1.47 1.35L5.41 20z\"/>\n",
              "  </svg>\n",
              "      </button>\n",
              "      \n",
              "  <style>\n",
              "    .colab-df-container {\n",
              "      display:flex;\n",
              "      flex-wrap:wrap;\n",
              "      gap: 12px;\n",
              "    }\n",
              "\n",
              "    .colab-df-convert {\n",
              "      background-color: #E8F0FE;\n",
              "      border: none;\n",
              "      border-radius: 50%;\n",
              "      cursor: pointer;\n",
              "      display: none;\n",
              "      fill: #1967D2;\n",
              "      height: 32px;\n",
              "      padding: 0 0 0 0;\n",
              "      width: 32px;\n",
              "    }\n",
              "\n",
              "    .colab-df-convert:hover {\n",
              "      background-color: #E2EBFA;\n",
              "      box-shadow: 0px 1px 2px rgba(60, 64, 67, 0.3), 0px 1px 3px 1px rgba(60, 64, 67, 0.15);\n",
              "      fill: #174EA6;\n",
              "    }\n",
              "\n",
              "    [theme=dark] .colab-df-convert {\n",
              "      background-color: #3B4455;\n",
              "      fill: #D2E3FC;\n",
              "    }\n",
              "\n",
              "    [theme=dark] .colab-df-convert:hover {\n",
              "      background-color: #434B5C;\n",
              "      box-shadow: 0px 1px 3px 1px rgba(0, 0, 0, 0.15);\n",
              "      filter: drop-shadow(0px 1px 2px rgba(0, 0, 0, 0.3));\n",
              "      fill: #FFFFFF;\n",
              "    }\n",
              "  </style>\n",
              "\n",
              "      <script>\n",
              "        const buttonEl =\n",
              "          document.querySelector('#df-925b852a-a361-4586-b6fd-e3593589f7b9 button.colab-df-convert');\n",
              "        buttonEl.style.display =\n",
              "          google.colab.kernel.accessAllowed ? 'block' : 'none';\n",
              "\n",
              "        async function convertToInteractive(key) {\n",
              "          const element = document.querySelector('#df-925b852a-a361-4586-b6fd-e3593589f7b9');\n",
              "          const dataTable =\n",
              "            await google.colab.kernel.invokeFunction('convertToInteractive',\n",
              "                                                     [key], {});\n",
              "          if (!dataTable) return;\n",
              "\n",
              "          const docLinkHtml = 'Like what you see? Visit the ' +\n",
              "            '<a target=\"_blank\" href=https://colab.research.google.com/notebooks/data_table.ipynb>data table notebook</a>'\n",
              "            + ' to learn more about interactive tables.';\n",
              "          element.innerHTML = '';\n",
              "          dataTable['output_type'] = 'display_data';\n",
              "          await google.colab.output.renderOutput(dataTable, element);\n",
              "          const docLink = document.createElement('div');\n",
              "          docLink.innerHTML = docLinkHtml;\n",
              "          element.appendChild(docLink);\n",
              "        }\n",
              "      </script>\n",
              "    </div>\n",
              "  </div>\n",
              "  "
            ]
          },
          "metadata": {},
          "execution_count": 10
        }
      ]
    },
    {
      "cell_type": "code",
      "source": [
        "df.describe()"
      ],
      "metadata": {
        "colab": {
          "base_uri": "https://localhost:8080/",
          "height": 175
        },
        "id": "YSYVqzBFFgK8",
        "outputId": "f9804f7b-65d6-4da8-a29e-69e5b76e3132"
      },
      "execution_count": 11,
      "outputs": [
        {
          "output_type": "execute_result",
          "data": {
            "text/plain": [
              "                  message               sentiment\n",
              "count              188373                  188373\n",
              "unique             184112                       8\n",
              "top      Hi, how are you?  Curious to dive deeper\n",
              "freq                  317                   80887"
            ],
            "text/html": [
              "\n",
              "  <div id=\"df-79ef2907-2bb3-4857-8622-6dfb0f9e12c8\">\n",
              "    <div class=\"colab-df-container\">\n",
              "      <div>\n",
              "<style scoped>\n",
              "    .dataframe tbody tr th:only-of-type {\n",
              "        vertical-align: middle;\n",
              "    }\n",
              "\n",
              "    .dataframe tbody tr th {\n",
              "        vertical-align: top;\n",
              "    }\n",
              "\n",
              "    .dataframe thead th {\n",
              "        text-align: right;\n",
              "    }\n",
              "</style>\n",
              "<table border=\"1\" class=\"dataframe\">\n",
              "  <thead>\n",
              "    <tr style=\"text-align: right;\">\n",
              "      <th></th>\n",
              "      <th>message</th>\n",
              "      <th>sentiment</th>\n",
              "    </tr>\n",
              "  </thead>\n",
              "  <tbody>\n",
              "    <tr>\n",
              "      <th>count</th>\n",
              "      <td>188373</td>\n",
              "      <td>188373</td>\n",
              "    </tr>\n",
              "    <tr>\n",
              "      <th>unique</th>\n",
              "      <td>184112</td>\n",
              "      <td>8</td>\n",
              "    </tr>\n",
              "    <tr>\n",
              "      <th>top</th>\n",
              "      <td>Hi, how are you?</td>\n",
              "      <td>Curious to dive deeper</td>\n",
              "    </tr>\n",
              "    <tr>\n",
              "      <th>freq</th>\n",
              "      <td>317</td>\n",
              "      <td>80887</td>\n",
              "    </tr>\n",
              "  </tbody>\n",
              "</table>\n",
              "</div>\n",
              "      <button class=\"colab-df-convert\" onclick=\"convertToInteractive('df-79ef2907-2bb3-4857-8622-6dfb0f9e12c8')\"\n",
              "              title=\"Convert this dataframe to an interactive table.\"\n",
              "              style=\"display:none;\">\n",
              "        \n",
              "  <svg xmlns=\"http://www.w3.org/2000/svg\" height=\"24px\"viewBox=\"0 0 24 24\"\n",
              "       width=\"24px\">\n",
              "    <path d=\"M0 0h24v24H0V0z\" fill=\"none\"/>\n",
              "    <path d=\"M18.56 5.44l.94 2.06.94-2.06 2.06-.94-2.06-.94-.94-2.06-.94 2.06-2.06.94zm-11 1L8.5 8.5l.94-2.06 2.06-.94-2.06-.94L8.5 2.5l-.94 2.06-2.06.94zm10 10l.94 2.06.94-2.06 2.06-.94-2.06-.94-.94-2.06-.94 2.06-2.06.94z\"/><path d=\"M17.41 7.96l-1.37-1.37c-.4-.4-.92-.59-1.43-.59-.52 0-1.04.2-1.43.59L10.3 9.45l-7.72 7.72c-.78.78-.78 2.05 0 2.83L4 21.41c.39.39.9.59 1.41.59.51 0 1.02-.2 1.41-.59l7.78-7.78 2.81-2.81c.8-.78.8-2.07 0-2.86zM5.41 20L4 18.59l7.72-7.72 1.47 1.35L5.41 20z\"/>\n",
              "  </svg>\n",
              "      </button>\n",
              "      \n",
              "  <style>\n",
              "    .colab-df-container {\n",
              "      display:flex;\n",
              "      flex-wrap:wrap;\n",
              "      gap: 12px;\n",
              "    }\n",
              "\n",
              "    .colab-df-convert {\n",
              "      background-color: #E8F0FE;\n",
              "      border: none;\n",
              "      border-radius: 50%;\n",
              "      cursor: pointer;\n",
              "      display: none;\n",
              "      fill: #1967D2;\n",
              "      height: 32px;\n",
              "      padding: 0 0 0 0;\n",
              "      width: 32px;\n",
              "    }\n",
              "\n",
              "    .colab-df-convert:hover {\n",
              "      background-color: #E2EBFA;\n",
              "      box-shadow: 0px 1px 2px rgba(60, 64, 67, 0.3), 0px 1px 3px 1px rgba(60, 64, 67, 0.15);\n",
              "      fill: #174EA6;\n",
              "    }\n",
              "\n",
              "    [theme=dark] .colab-df-convert {\n",
              "      background-color: #3B4455;\n",
              "      fill: #D2E3FC;\n",
              "    }\n",
              "\n",
              "    [theme=dark] .colab-df-convert:hover {\n",
              "      background-color: #434B5C;\n",
              "      box-shadow: 0px 1px 3px 1px rgba(0, 0, 0, 0.15);\n",
              "      filter: drop-shadow(0px 1px 2px rgba(0, 0, 0, 0.3));\n",
              "      fill: #FFFFFF;\n",
              "    }\n",
              "  </style>\n",
              "\n",
              "      <script>\n",
              "        const buttonEl =\n",
              "          document.querySelector('#df-79ef2907-2bb3-4857-8622-6dfb0f9e12c8 button.colab-df-convert');\n",
              "        buttonEl.style.display =\n",
              "          google.colab.kernel.accessAllowed ? 'block' : 'none';\n",
              "\n",
              "        async function convertToInteractive(key) {\n",
              "          const element = document.querySelector('#df-79ef2907-2bb3-4857-8622-6dfb0f9e12c8');\n",
              "          const dataTable =\n",
              "            await google.colab.kernel.invokeFunction('convertToInteractive',\n",
              "                                                     [key], {});\n",
              "          if (!dataTable) return;\n",
              "\n",
              "          const docLinkHtml = 'Like what you see? Visit the ' +\n",
              "            '<a target=\"_blank\" href=https://colab.research.google.com/notebooks/data_table.ipynb>data table notebook</a>'\n",
              "            + ' to learn more about interactive tables.';\n",
              "          element.innerHTML = '';\n",
              "          dataTable['output_type'] = 'display_data';\n",
              "          await google.colab.output.renderOutput(dataTable, element);\n",
              "          const docLink = document.createElement('div');\n",
              "          docLink.innerHTML = docLinkHtml;\n",
              "          element.appendChild(docLink);\n",
              "        }\n",
              "      </script>\n",
              "    </div>\n",
              "  </div>\n",
              "  "
            ]
          },
          "metadata": {},
          "execution_count": 11
        }
      ]
    },
    {
      "cell_type": "code",
      "source": [
        "# !pip install datasets transformers huggingface_hub\n",
        "# !apt-get install git-lfs"
      ],
      "metadata": {
        "id": "IMY0QZvNKynP"
      },
      "execution_count": 14,
      "outputs": []
    },
    {
      "cell_type": "code",
      "source": [
        "# from transformers import AutoTokenizer\n",
        "# tokenizer = AutoTokenizer.from_pretrained(\"distilbert-base-uncased\")\n"
      ],
      "metadata": {
        "id": "u3fDooajFvle"
      },
      "execution_count": 15,
      "outputs": []
    },
    {
      "cell_type": "code",
      "source": [
        "X = df[\"message\"]\n",
        "y = df[\"sentiment\"]"
      ],
      "metadata": {
        "id": "CoVTlepaL3H0"
      },
      "execution_count": 12,
      "outputs": []
    },
    {
      "cell_type": "code",
      "source": [
        "X = X.str.strip()"
      ],
      "metadata": {
        "id": "V0rgupmfMm5q"
      },
      "execution_count": 13,
      "outputs": []
    },
    {
      "cell_type": "markdown",
      "source": [
        "#cleaning the text data"
      ],
      "metadata": {
        "id": "cmQvW7Tt7385"
      }
    },
    {
      "cell_type": "code",
      "source": [
        "import string\n",
        "string.punctuation"
      ],
      "metadata": {
        "id": "I9Gbd8ofTbXE",
        "colab": {
          "base_uri": "https://localhost:8080/",
          "height": 36
        },
        "outputId": "a7adee22-750d-4417-9c05-8501d6d5914c"
      },
      "execution_count": 14,
      "outputs": [
        {
          "output_type": "execute_result",
          "data": {
            "text/plain": [
              "'!\"#$%&\\'()*+,-./:;<=>?@[\\\\]^_`{|}~'"
            ],
            "application/vnd.google.colaboratory.intrinsic+json": {
              "type": "string"
            }
          },
          "metadata": {},
          "execution_count": 14
        }
      ]
    },
    {
      "cell_type": "code",
      "source": [
        "def remove_punct(text):\n",
        "  '''\n",
        "  This function removes any punctuation marks from data as they are unwanted in our use case\n",
        "  '''\n",
        "  text = \"\".join([char for char in text if char not in string.punctuation])\n",
        "  return text"
      ],
      "metadata": {
        "id": "cmA23Nq4EJqs"
      },
      "execution_count": 15,
      "outputs": []
    },
    {
      "cell_type": "code",
      "source": [
        "X = X.apply(lambda x: remove_punct(x))\n",
        "X.head()"
      ],
      "metadata": {
        "colab": {
          "base_uri": "https://localhost:8080/"
        },
        "id": "QOacUjnzEQyk",
        "outputId": "45d4634e-a31f-432b-c981-7097e1e7f9da"
      },
      "execution_count": 16,
      "outputs": [
        {
          "output_type": "execute_result",
          "data": {
            "text/plain": [
              "0                 Are you a fan of Google or Microsoft\n",
              "1    Both are excellent technology they are helpful...\n",
              "2    Im not  a huge fan of Google but I use it a lo...\n",
              "3    Google provides online related services and pr...\n",
              "4    Yeah their services are good Im just not a fan...\n",
              "Name: message, dtype: object"
            ]
          },
          "metadata": {},
          "execution_count": 16
        }
      ]
    },
    {
      "cell_type": "markdown",
      "source": [
        "#any unwanted combinations of non alphabet will be removed with help of regular expression.\n",
        "#Also tokenizing the text into tokens"
      ],
      "metadata": {
        "id": "SkoWXJD58ROn"
      }
    },
    {
      "cell_type": "code",
      "source": [
        "import re\n",
        "\n",
        "def tokenize(text):\n",
        "  '''\n",
        "  This function help in tokenizing the data.\n",
        "  '''\n",
        "  tokens = re.split('\\W+',text)\n",
        "  return tokens\n",
        "\n",
        "df['text_tokenized'] = X.apply(lambda x:tokenize(x.lower()))\n",
        "\n",
        "df.head()"
      ],
      "metadata": {
        "colab": {
          "base_uri": "https://localhost:8080/",
          "height": 206
        },
        "id": "lWymk8TCI2dY",
        "outputId": "1e1110e0-9a1f-41fd-a6b5-8172a427e87d"
      },
      "execution_count": 17,
      "outputs": [
        {
          "output_type": "execute_result",
          "data": {
            "text/plain": [
              "                                             message               sentiment  \\\n",
              "0              Are you a fan of Google or Microsoft?  Curious to dive deeper   \n",
              "1  Both are excellent technology they are helpful...  Curious to dive deeper   \n",
              "2   I'm not  a huge fan of Google, but I use it a...  Curious to dive deeper   \n",
              "3   Google provides online related services and p...  Curious to dive deeper   \n",
              "4   Yeah, their services are good. I'm just not a...  Curious to dive deeper   \n",
              "\n",
              "                                      text_tokenized  \n",
              "0      [are, you, a, fan, of, google, or, microsoft]  \n",
              "1  [both, are, excellent, technology, they, are, ...  \n",
              "2  [im, not, a, huge, fan, of, google, but, i, us...  \n",
              "3  [google, provides, online, related, services, ...  \n",
              "4  [yeah, their, services, are, good, im, just, n...  "
            ],
            "text/html": [
              "\n",
              "  <div id=\"df-23583349-45a6-4f8a-ba13-a8a50cc8e300\">\n",
              "    <div class=\"colab-df-container\">\n",
              "      <div>\n",
              "<style scoped>\n",
              "    .dataframe tbody tr th:only-of-type {\n",
              "        vertical-align: middle;\n",
              "    }\n",
              "\n",
              "    .dataframe tbody tr th {\n",
              "        vertical-align: top;\n",
              "    }\n",
              "\n",
              "    .dataframe thead th {\n",
              "        text-align: right;\n",
              "    }\n",
              "</style>\n",
              "<table border=\"1\" class=\"dataframe\">\n",
              "  <thead>\n",
              "    <tr style=\"text-align: right;\">\n",
              "      <th></th>\n",
              "      <th>message</th>\n",
              "      <th>sentiment</th>\n",
              "      <th>text_tokenized</th>\n",
              "    </tr>\n",
              "  </thead>\n",
              "  <tbody>\n",
              "    <tr>\n",
              "      <th>0</th>\n",
              "      <td>Are you a fan of Google or Microsoft?</td>\n",
              "      <td>Curious to dive deeper</td>\n",
              "      <td>[are, you, a, fan, of, google, or, microsoft]</td>\n",
              "    </tr>\n",
              "    <tr>\n",
              "      <th>1</th>\n",
              "      <td>Both are excellent technology they are helpful...</td>\n",
              "      <td>Curious to dive deeper</td>\n",
              "      <td>[both, are, excellent, technology, they, are, ...</td>\n",
              "    </tr>\n",
              "    <tr>\n",
              "      <th>2</th>\n",
              "      <td>I'm not  a huge fan of Google, but I use it a...</td>\n",
              "      <td>Curious to dive deeper</td>\n",
              "      <td>[im, not, a, huge, fan, of, google, but, i, us...</td>\n",
              "    </tr>\n",
              "    <tr>\n",
              "      <th>3</th>\n",
              "      <td>Google provides online related services and p...</td>\n",
              "      <td>Curious to dive deeper</td>\n",
              "      <td>[google, provides, online, related, services, ...</td>\n",
              "    </tr>\n",
              "    <tr>\n",
              "      <th>4</th>\n",
              "      <td>Yeah, their services are good. I'm just not a...</td>\n",
              "      <td>Curious to dive deeper</td>\n",
              "      <td>[yeah, their, services, are, good, im, just, n...</td>\n",
              "    </tr>\n",
              "  </tbody>\n",
              "</table>\n",
              "</div>\n",
              "      <button class=\"colab-df-convert\" onclick=\"convertToInteractive('df-23583349-45a6-4f8a-ba13-a8a50cc8e300')\"\n",
              "              title=\"Convert this dataframe to an interactive table.\"\n",
              "              style=\"display:none;\">\n",
              "        \n",
              "  <svg xmlns=\"http://www.w3.org/2000/svg\" height=\"24px\"viewBox=\"0 0 24 24\"\n",
              "       width=\"24px\">\n",
              "    <path d=\"M0 0h24v24H0V0z\" fill=\"none\"/>\n",
              "    <path d=\"M18.56 5.44l.94 2.06.94-2.06 2.06-.94-2.06-.94-.94-2.06-.94 2.06-2.06.94zm-11 1L8.5 8.5l.94-2.06 2.06-.94-2.06-.94L8.5 2.5l-.94 2.06-2.06.94zm10 10l.94 2.06.94-2.06 2.06-.94-2.06-.94-.94-2.06-.94 2.06-2.06.94z\"/><path d=\"M17.41 7.96l-1.37-1.37c-.4-.4-.92-.59-1.43-.59-.52 0-1.04.2-1.43.59L10.3 9.45l-7.72 7.72c-.78.78-.78 2.05 0 2.83L4 21.41c.39.39.9.59 1.41.59.51 0 1.02-.2 1.41-.59l7.78-7.78 2.81-2.81c.8-.78.8-2.07 0-2.86zM5.41 20L4 18.59l7.72-7.72 1.47 1.35L5.41 20z\"/>\n",
              "  </svg>\n",
              "      </button>\n",
              "      \n",
              "  <style>\n",
              "    .colab-df-container {\n",
              "      display:flex;\n",
              "      flex-wrap:wrap;\n",
              "      gap: 12px;\n",
              "    }\n",
              "\n",
              "    .colab-df-convert {\n",
              "      background-color: #E8F0FE;\n",
              "      border: none;\n",
              "      border-radius: 50%;\n",
              "      cursor: pointer;\n",
              "      display: none;\n",
              "      fill: #1967D2;\n",
              "      height: 32px;\n",
              "      padding: 0 0 0 0;\n",
              "      width: 32px;\n",
              "    }\n",
              "\n",
              "    .colab-df-convert:hover {\n",
              "      background-color: #E2EBFA;\n",
              "      box-shadow: 0px 1px 2px rgba(60, 64, 67, 0.3), 0px 1px 3px 1px rgba(60, 64, 67, 0.15);\n",
              "      fill: #174EA6;\n",
              "    }\n",
              "\n",
              "    [theme=dark] .colab-df-convert {\n",
              "      background-color: #3B4455;\n",
              "      fill: #D2E3FC;\n",
              "    }\n",
              "\n",
              "    [theme=dark] .colab-df-convert:hover {\n",
              "      background-color: #434B5C;\n",
              "      box-shadow: 0px 1px 3px 1px rgba(0, 0, 0, 0.15);\n",
              "      filter: drop-shadow(0px 1px 2px rgba(0, 0, 0, 0.3));\n",
              "      fill: #FFFFFF;\n",
              "    }\n",
              "  </style>\n",
              "\n",
              "      <script>\n",
              "        const buttonEl =\n",
              "          document.querySelector('#df-23583349-45a6-4f8a-ba13-a8a50cc8e300 button.colab-df-convert');\n",
              "        buttonEl.style.display =\n",
              "          google.colab.kernel.accessAllowed ? 'block' : 'none';\n",
              "\n",
              "        async function convertToInteractive(key) {\n",
              "          const element = document.querySelector('#df-23583349-45a6-4f8a-ba13-a8a50cc8e300');\n",
              "          const dataTable =\n",
              "            await google.colab.kernel.invokeFunction('convertToInteractive',\n",
              "                                                     [key], {});\n",
              "          if (!dataTable) return;\n",
              "\n",
              "          const docLinkHtml = 'Like what you see? Visit the ' +\n",
              "            '<a target=\"_blank\" href=https://colab.research.google.com/notebooks/data_table.ipynb>data table notebook</a>'\n",
              "            + ' to learn more about interactive tables.';\n",
              "          element.innerHTML = '';\n",
              "          dataTable['output_type'] = 'display_data';\n",
              "          await google.colab.output.renderOutput(dataTable, element);\n",
              "          const docLink = document.createElement('div');\n",
              "          docLink.innerHTML = docLinkHtml;\n",
              "          element.appendChild(docLink);\n",
              "        }\n",
              "      </script>\n",
              "    </div>\n",
              "  </div>\n",
              "  "
            ]
          },
          "metadata": {},
          "execution_count": 17
        }
      ]
    },
    {
      "cell_type": "code",
      "source": [
        "import nltk #natural language tool kit , to download stopwords"
      ],
      "metadata": {
        "id": "fPTM5zZQJUD2"
      },
      "execution_count": 18,
      "outputs": []
    },
    {
      "cell_type": "code",
      "source": [
        "nltk.download('stopwords')"
      ],
      "metadata": {
        "colab": {
          "base_uri": "https://localhost:8080/"
        },
        "id": "kNjpaHqFJYg2",
        "outputId": "fc014314-2720-456e-f051-8b26a84f8747"
      },
      "execution_count": 19,
      "outputs": [
        {
          "output_type": "stream",
          "name": "stderr",
          "text": [
            "[nltk_data] Downloading package stopwords to /root/nltk_data...\n",
            "[nltk_data]   Unzipping corpora/stopwords.zip.\n"
          ]
        },
        {
          "output_type": "execute_result",
          "data": {
            "text/plain": [
              "True"
            ]
          },
          "metadata": {},
          "execution_count": 19
        }
      ]
    },
    {
      "cell_type": "markdown",
      "source": [
        "#stopwords are some unwanted words we can ignore them for classification"
      ],
      "metadata": {
        "id": "MH9a3bjf-KlX"
      }
    },
    {
      "cell_type": "code",
      "source": [
        "stopwords = nltk.corpus.stopwords.words('english')\n",
        "stopwords[:5]"
      ],
      "metadata": {
        "colab": {
          "base_uri": "https://localhost:8080/"
        },
        "id": "3y9brgpmJL9C",
        "outputId": "ee24dadc-c714-4578-cf2c-f4c2904fa6be"
      },
      "execution_count": 23,
      "outputs": [
        {
          "output_type": "execute_result",
          "data": {
            "text/plain": [
              "['i', 'me', 'my', 'myself', 'we']"
            ]
          },
          "metadata": {},
          "execution_count": 23
        }
      ]
    },
    {
      "cell_type": "code",
      "source": [
        "#define fun to remove stopwords\n",
        "\n",
        "def remove_stopwords(tokenized_text):\n",
        "  '''\n",
        "  This function removes unwanted stopwords from given text data\n",
        "  '''\n",
        "  text = [word for word in tokenized_text if word not in stopwords]\n",
        "  return text\n",
        "\n",
        "df['text_nostop'] = df['text_tokenized'].apply(lambda x: remove_stopwords(x))\n",
        "\n",
        "df.head()"
      ],
      "metadata": {
        "colab": {
          "base_uri": "https://localhost:8080/",
          "height": 250
        },
        "id": "3qYcx2bIJgkn",
        "outputId": "1c1a5429-2dc7-4e83-afa7-4f6ccacbbccb"
      },
      "execution_count": 24,
      "outputs": [
        {
          "output_type": "execute_result",
          "data": {
            "text/plain": [
              "                                             message               sentiment  \\\n",
              "0              Are you a fan of Google or Microsoft?  Curious to dive deeper   \n",
              "1  Both are excellent technology they are helpful...  Curious to dive deeper   \n",
              "2   I'm not  a huge fan of Google, but I use it a...  Curious to dive deeper   \n",
              "3   Google provides online related services and p...  Curious to dive deeper   \n",
              "4   Yeah, their services are good. I'm just not a...  Curious to dive deeper   \n",
              "\n",
              "                                      text_tokenized  \\\n",
              "0      [are, you, a, fan, of, google, or, microsoft]   \n",
              "1  [both, are, excellent, technology, they, are, ...   \n",
              "2  [im, not, a, huge, fan, of, google, but, i, us...   \n",
              "3  [google, provides, online, related, services, ...   \n",
              "4  [yeah, their, services, are, good, im, just, n...   \n",
              "\n",
              "                                         text_nostop  \n",
              "0                           [fan, google, microsoft]  \n",
              "1  [excellent, technology, helpful, many, ways, s...  \n",
              "2  [im, huge, fan, google, use, lot, think, monop...  \n",
              "3  [google, provides, online, related, services, ...  \n",
              "4  [yeah, services, good, im, fan, intrusive, per...  "
            ],
            "text/html": [
              "\n",
              "  <div id=\"df-5c05968d-d14f-47d3-80c6-dca75c964e89\">\n",
              "    <div class=\"colab-df-container\">\n",
              "      <div>\n",
              "<style scoped>\n",
              "    .dataframe tbody tr th:only-of-type {\n",
              "        vertical-align: middle;\n",
              "    }\n",
              "\n",
              "    .dataframe tbody tr th {\n",
              "        vertical-align: top;\n",
              "    }\n",
              "\n",
              "    .dataframe thead th {\n",
              "        text-align: right;\n",
              "    }\n",
              "</style>\n",
              "<table border=\"1\" class=\"dataframe\">\n",
              "  <thead>\n",
              "    <tr style=\"text-align: right;\">\n",
              "      <th></th>\n",
              "      <th>message</th>\n",
              "      <th>sentiment</th>\n",
              "      <th>text_tokenized</th>\n",
              "      <th>text_nostop</th>\n",
              "    </tr>\n",
              "  </thead>\n",
              "  <tbody>\n",
              "    <tr>\n",
              "      <th>0</th>\n",
              "      <td>Are you a fan of Google or Microsoft?</td>\n",
              "      <td>Curious to dive deeper</td>\n",
              "      <td>[are, you, a, fan, of, google, or, microsoft]</td>\n",
              "      <td>[fan, google, microsoft]</td>\n",
              "    </tr>\n",
              "    <tr>\n",
              "      <th>1</th>\n",
              "      <td>Both are excellent technology they are helpful...</td>\n",
              "      <td>Curious to dive deeper</td>\n",
              "      <td>[both, are, excellent, technology, they, are, ...</td>\n",
              "      <td>[excellent, technology, helpful, many, ways, s...</td>\n",
              "    </tr>\n",
              "    <tr>\n",
              "      <th>2</th>\n",
              "      <td>I'm not  a huge fan of Google, but I use it a...</td>\n",
              "      <td>Curious to dive deeper</td>\n",
              "      <td>[im, not, a, huge, fan, of, google, but, i, us...</td>\n",
              "      <td>[im, huge, fan, google, use, lot, think, monop...</td>\n",
              "    </tr>\n",
              "    <tr>\n",
              "      <th>3</th>\n",
              "      <td>Google provides online related services and p...</td>\n",
              "      <td>Curious to dive deeper</td>\n",
              "      <td>[google, provides, online, related, services, ...</td>\n",
              "      <td>[google, provides, online, related, services, ...</td>\n",
              "    </tr>\n",
              "    <tr>\n",
              "      <th>4</th>\n",
              "      <td>Yeah, their services are good. I'm just not a...</td>\n",
              "      <td>Curious to dive deeper</td>\n",
              "      <td>[yeah, their, services, are, good, im, just, n...</td>\n",
              "      <td>[yeah, services, good, im, fan, intrusive, per...</td>\n",
              "    </tr>\n",
              "  </tbody>\n",
              "</table>\n",
              "</div>\n",
              "      <button class=\"colab-df-convert\" onclick=\"convertToInteractive('df-5c05968d-d14f-47d3-80c6-dca75c964e89')\"\n",
              "              title=\"Convert this dataframe to an interactive table.\"\n",
              "              style=\"display:none;\">\n",
              "        \n",
              "  <svg xmlns=\"http://www.w3.org/2000/svg\" height=\"24px\"viewBox=\"0 0 24 24\"\n",
              "       width=\"24px\">\n",
              "    <path d=\"M0 0h24v24H0V0z\" fill=\"none\"/>\n",
              "    <path d=\"M18.56 5.44l.94 2.06.94-2.06 2.06-.94-2.06-.94-.94-2.06-.94 2.06-2.06.94zm-11 1L8.5 8.5l.94-2.06 2.06-.94-2.06-.94L8.5 2.5l-.94 2.06-2.06.94zm10 10l.94 2.06.94-2.06 2.06-.94-2.06-.94-.94-2.06-.94 2.06-2.06.94z\"/><path d=\"M17.41 7.96l-1.37-1.37c-.4-.4-.92-.59-1.43-.59-.52 0-1.04.2-1.43.59L10.3 9.45l-7.72 7.72c-.78.78-.78 2.05 0 2.83L4 21.41c.39.39.9.59 1.41.59.51 0 1.02-.2 1.41-.59l7.78-7.78 2.81-2.81c.8-.78.8-2.07 0-2.86zM5.41 20L4 18.59l7.72-7.72 1.47 1.35L5.41 20z\"/>\n",
              "  </svg>\n",
              "      </button>\n",
              "      \n",
              "  <style>\n",
              "    .colab-df-container {\n",
              "      display:flex;\n",
              "      flex-wrap:wrap;\n",
              "      gap: 12px;\n",
              "    }\n",
              "\n",
              "    .colab-df-convert {\n",
              "      background-color: #E8F0FE;\n",
              "      border: none;\n",
              "      border-radius: 50%;\n",
              "      cursor: pointer;\n",
              "      display: none;\n",
              "      fill: #1967D2;\n",
              "      height: 32px;\n",
              "      padding: 0 0 0 0;\n",
              "      width: 32px;\n",
              "    }\n",
              "\n",
              "    .colab-df-convert:hover {\n",
              "      background-color: #E2EBFA;\n",
              "      box-shadow: 0px 1px 2px rgba(60, 64, 67, 0.3), 0px 1px 3px 1px rgba(60, 64, 67, 0.15);\n",
              "      fill: #174EA6;\n",
              "    }\n",
              "\n",
              "    [theme=dark] .colab-df-convert {\n",
              "      background-color: #3B4455;\n",
              "      fill: #D2E3FC;\n",
              "    }\n",
              "\n",
              "    [theme=dark] .colab-df-convert:hover {\n",
              "      background-color: #434B5C;\n",
              "      box-shadow: 0px 1px 3px 1px rgba(0, 0, 0, 0.15);\n",
              "      filter: drop-shadow(0px 1px 2px rgba(0, 0, 0, 0.3));\n",
              "      fill: #FFFFFF;\n",
              "    }\n",
              "  </style>\n",
              "\n",
              "      <script>\n",
              "        const buttonEl =\n",
              "          document.querySelector('#df-5c05968d-d14f-47d3-80c6-dca75c964e89 button.colab-df-convert');\n",
              "        buttonEl.style.display =\n",
              "          google.colab.kernel.accessAllowed ? 'block' : 'none';\n",
              "\n",
              "        async function convertToInteractive(key) {\n",
              "          const element = document.querySelector('#df-5c05968d-d14f-47d3-80c6-dca75c964e89');\n",
              "          const dataTable =\n",
              "            await google.colab.kernel.invokeFunction('convertToInteractive',\n",
              "                                                     [key], {});\n",
              "          if (!dataTable) return;\n",
              "\n",
              "          const docLinkHtml = 'Like what you see? Visit the ' +\n",
              "            '<a target=\"_blank\" href=https://colab.research.google.com/notebooks/data_table.ipynb>data table notebook</a>'\n",
              "            + ' to learn more about interactive tables.';\n",
              "          element.innerHTML = '';\n",
              "          dataTable['output_type'] = 'display_data';\n",
              "          await google.colab.output.renderOutput(dataTable, element);\n",
              "          const docLink = document.createElement('div');\n",
              "          docLink.innerHTML = docLinkHtml;\n",
              "          element.appendChild(docLink);\n",
              "        }\n",
              "      </script>\n",
              "    </div>\n",
              "  </div>\n",
              "  "
            ]
          },
          "metadata": {},
          "execution_count": 24
        }
      ]
    },
    {
      "cell_type": "markdown",
      "source": [
        "#As we are doing multiclass classification , so we need to convert the string data into categories or classes."
      ],
      "metadata": {
        "id": "Zw_LBco8-iv1"
      }
    },
    {
      "cell_type": "code",
      "source": [
        "region_dictionary = {'Angry':1, 'Curious to dive deeper':2, 'Disgusted':3, 'Fearful':4, 'Happy':5, 'Neutral':6, 'Sad':7, 'Surprised':8 }\n",
        "df[\"sentiment\"] = df[\"sentiment\"].apply(lambda x: region_dictionary[x])"
      ],
      "metadata": {
        "id": "MbjzksHFZimz"
      },
      "execution_count": 53,
      "outputs": []
    },
    {
      "cell_type": "code",
      "source": [
        "df[\"sentiment\"]"
      ],
      "metadata": {
        "colab": {
          "base_uri": "https://localhost:8080/"
        },
        "id": "tyZz-WS-ZyVZ",
        "outputId": "b4448601-66ae-497d-fba3-43330355049a"
      },
      "execution_count": 54,
      "outputs": [
        {
          "output_type": "execute_result",
          "data": {
            "text/plain": [
              "0         2\n",
              "1         2\n",
              "2         2\n",
              "3         2\n",
              "4         2\n",
              "         ..\n",
              "188373    8\n",
              "188374    2\n",
              "188375    2\n",
              "188376    5\n",
              "188377    6\n",
              "Name: sentiment, Length: 188373, dtype: int64"
            ]
          },
          "metadata": {},
          "execution_count": 54
        }
      ]
    },
    {
      "cell_type": "code",
      "source": [
        "X = df[\"text_nostop\"]\n",
        "y = df[\"sentiment\"]\n"
      ],
      "metadata": {
        "id": "8WfHiFLuJy_S"
      },
      "execution_count": 57,
      "outputs": []
    },
    {
      "cell_type": "code",
      "source": [
        "y.head()"
      ],
      "metadata": {
        "colab": {
          "base_uri": "https://localhost:8080/"
        },
        "id": "ejZvnTyr_BE_",
        "outputId": "16b08b4e-b1c1-4ecd-cc59-d566285c5d39"
      },
      "execution_count": 58,
      "outputs": [
        {
          "output_type": "execute_result",
          "data": {
            "text/plain": [
              "0    2\n",
              "1    2\n",
              "2    2\n",
              "3    2\n",
              "4    2\n",
              "Name: sentiment, dtype: int64"
            ]
          },
          "metadata": {},
          "execution_count": 58
        }
      ]
    },
    {
      "cell_type": "code",
      "source": [
        "# using the train test split function\n",
        "X_train, X_test, y_train, y_test = train_test_split(X,y ,\n",
        "                                   random_state=104, \n",
        "                                   test_size=0.25, \n",
        "                                   shuffle=True)"
      ],
      "metadata": {
        "id": "IbV5E5ZjMJx9"
      },
      "execution_count": 59,
      "outputs": []
    },
    {
      "cell_type": "code",
      "source": [
        "X_train.head()"
      ],
      "metadata": {
        "colab": {
          "base_uri": "https://localhost:8080/"
        },
        "id": "61WeIahsOxoS",
        "outputId": "61c1b09d-8769-4b99-b02d-d79ca26a7aaa"
      },
      "execution_count": 60,
      "outputs": [
        {
          "output_type": "execute_result",
          "data": {
            "text/plain": [
              "51179      [either, know, green, lantern, supposed, comedy]\n",
              "112716     [know, people, facebook, world, 200, years, ago]\n",
              "71326     [heard, two, get, stuck, together, cannot, sep...\n",
              "165286    [think, president, indonessia, megawati, sukar...\n",
              "176323    [six, rings, man, legend, favorite, understand...\n",
              "Name: text_nostop, dtype: object"
            ]
          },
          "metadata": {},
          "execution_count": 60
        }
      ]
    },
    {
      "cell_type": "code",
      "source": [],
      "metadata": {
        "id": "PlVWYiGiZsBV"
      },
      "execution_count": 60,
      "outputs": []
    },
    {
      "cell_type": "code",
      "source": [],
      "metadata": {
        "id": "8MpX7SUVbdGs"
      },
      "execution_count": 60,
      "outputs": []
    },
    {
      "cell_type": "code",
      "source": [
        "# def preprocess_function(examples):\n",
        "#    return tokenizer(examples[\"text\"], truncation=True)"
      ],
      "metadata": {
        "id": "6raDBAjWKqZh"
      },
      "execution_count": 61,
      "outputs": []
    },
    {
      "cell_type": "code",
      "source": [
        "from tensorflow.python.trackable import base as trackable\n",
        "from keras.preprocessing.text import Tokenizer\n",
        "from keras.utils import pad_sequences"
      ],
      "metadata": {
        "id": "bUBbS_KmMJDT"
      },
      "execution_count": 62,
      "outputs": []
    },
    {
      "cell_type": "markdown",
      "source": [
        "#converting x_train into tokens"
      ],
      "metadata": {
        "id": "_scCW4U3_gY0"
      }
    },
    {
      "cell_type": "code",
      "source": [
        "tokenizer = Tokenizer()\n",
        "tokenizer.fit_on_texts(X_train)"
      ],
      "metadata": {
        "id": "P7iAph5zS3kH"
      },
      "execution_count": 63,
      "outputs": []
    },
    {
      "cell_type": "code",
      "source": [
        "X_train_seq = tokenizer.texts_to_sequences(X_train)\n",
        "X_test_seq = tokenizer.texts_to_sequences(X_test)"
      ],
      "metadata": {
        "id": "7l494OMyPR8B"
      },
      "execution_count": 64,
      "outputs": []
    },
    {
      "cell_type": "code",
      "source": [
        "X_train_seq[0]"
      ],
      "metadata": {
        "colab": {
          "base_uri": "https://localhost:8080/"
        },
        "id": "B0Iy1bFZPVdV",
        "outputId": "92ecb98a-f795-4e1a-e212-7b8601b43828"
      },
      "execution_count": 65,
      "outputs": [
        {
          "output_type": "execute_result",
          "data": {
            "text/plain": [
              "[124, 1, 669, 1530, 745, 141]"
            ]
          },
          "metadata": {},
          "execution_count": 65
        }
      ]
    },
    {
      "cell_type": "code",
      "source": [
        "type(X_train_seq)"
      ],
      "metadata": {
        "colab": {
          "base_uri": "https://localhost:8080/"
        },
        "id": "lS13T0A0PaAh",
        "outputId": "3a86cf3d-d520-4c3c-8684-2a6911d7506f"
      },
      "execution_count": 66,
      "outputs": [
        {
          "output_type": "execute_result",
          "data": {
            "text/plain": [
              "list"
            ]
          },
          "metadata": {},
          "execution_count": 66
        }
      ]
    },
    {
      "cell_type": "code",
      "source": [
        "# Longest String in list\n",
        "# using max() + key\n",
        "res = max(X_train_seq, key = len)\n",
        "len(res)"
      ],
      "metadata": {
        "colab": {
          "base_uri": "https://localhost:8080/"
        },
        "id": "hORvnPZGGFY8",
        "outputId": "cedab5ba-dc74-4455-98fe-5206bc912016"
      },
      "execution_count": 67,
      "outputs": [
        {
          "output_type": "execute_result",
          "data": {
            "text/plain": [
              "69"
            ]
          },
          "metadata": {},
          "execution_count": 67
        }
      ]
    },
    {
      "cell_type": "code",
      "source": [
        "# Longest String in list\n",
        "# using max() + key\n",
        "res = max(X_test_seq, key = len)\n",
        "len(res)"
      ],
      "metadata": {
        "colab": {
          "base_uri": "https://localhost:8080/"
        },
        "id": "bLq5nYfhGnda",
        "outputId": "4b1acce0-8034-427b-bf44-9a10f3e78919"
      },
      "execution_count": 68,
      "outputs": [
        {
          "output_type": "execute_result",
          "data": {
            "text/plain": [
              "61"
            ]
          },
          "metadata": {},
          "execution_count": 68
        }
      ]
    },
    {
      "cell_type": "markdown",
      "source": [
        "#Padding the sequences based on the highest value for matrix computations"
      ],
      "metadata": {
        "id": "JL8bgBI4_uVE"
      }
    },
    {
      "cell_type": "code",
      "source": [
        "X_train_seq_padded = pad_sequences(X_train_seq,60)\n",
        "X_test_seq_padded = pad_sequences(X_test_seq,60)"
      ],
      "metadata": {
        "id": "whPp3yzyLpOZ"
      },
      "execution_count": 69,
      "outputs": []
    },
    {
      "cell_type": "code",
      "source": [
        "import keras.backend as K\n",
        "from keras.layers import Dense, Embedding, LSTM\n",
        "from keras.models import Sequential"
      ],
      "metadata": {
        "id": "5usXWhXxNEJr"
      },
      "execution_count": 70,
      "outputs": []
    },
    {
      "cell_type": "code",
      "source": [
        "def recall_m(y_true,y_pred):\n",
        "  true_positives = K.sum(K.round(K.clip(y_true*y_pred,0,1)))\n",
        "  possible_positives = K.sum(K.round(K.clip(y_true,0,1)))\n",
        "  recall = true_positives/(possible_positives + K.epsilon())\n",
        "  return recall\n"
      ],
      "metadata": {
        "id": "8HzJUjfXNNMr"
      },
      "execution_count": 71,
      "outputs": []
    },
    {
      "cell_type": "code",
      "source": [
        "def precision_m(y_true,y_pred):\n",
        "  true_positives = K.sum(K.round(K.clip(y_true*y_pred,0,1)))\n",
        "  predicted_positives = K.sum(K.round(K.clip(y_true,0,1)))\n",
        "  precision = true_positives/(predicted_positives + K.epsilon())\n",
        "  return precision"
      ],
      "metadata": {
        "id": "TaArcj_lNTar"
      },
      "execution_count": 72,
      "outputs": []
    },
    {
      "cell_type": "markdown",
      "source": [
        "#with the help of Sequential class we defined \"many to many\" RNN neural network"
      ],
      "metadata": {
        "id": "MUusMQox_83U"
      }
    },
    {
      "cell_type": "code",
      "source": [
        "model = Sequential()\n",
        "\n",
        "model.add(Embedding(len(tokenizer.index_word)+1,32))  #for model tuning change 32 with some random number it is output of embedding\n",
        "model.add(LSTM(32, dropout = 0, recurrent_dropout = 0 ))\n",
        "model.add(Dense(32,activation = 'relu'))\n",
        "model.add(Dense(9,activation = 'softmax')) # since multiclass classification \n",
        "\n",
        "model.summary()"
      ],
      "metadata": {
        "colab": {
          "base_uri": "https://localhost:8080/"
        },
        "id": "j5sFcQJONXAR",
        "outputId": "2549b0c6-1622-4bce-9b28-7edbc95098d1"
      },
      "execution_count": 80,
      "outputs": [
        {
          "output_type": "stream",
          "name": "stdout",
          "text": [
            "Model: \"sequential_3\"\n",
            "_________________________________________________________________\n",
            " Layer (type)                Output Shape              Param #   \n",
            "=================================================================\n",
            " embedding_3 (Embedding)     (None, None, 32)          1178368   \n",
            "                                                                 \n",
            " lstm_3 (LSTM)               (None, 32)                8320      \n",
            "                                                                 \n",
            " dense_6 (Dense)             (None, 32)                1056      \n",
            "                                                                 \n",
            " dense_7 (Dense)             (None, 9)                 297       \n",
            "                                                                 \n",
            "=================================================================\n",
            "Total params: 1,188,041\n",
            "Trainable params: 1,188,041\n",
            "Non-trainable params: 0\n",
            "_________________________________________________________________\n"
          ]
        }
      ]
    },
    {
      "cell_type": "code",
      "source": [
        "#compile the model SparseSoftmaxCrossEntropyWithLogits\n",
        "import tensorflow as tf\n",
        "model.compile(optimizer = 'adam',loss = tf.keras.losses.SparseCategoricalCrossentropy(),metrics = ['accuracy',precision_m,recall_m])\n",
        "# model.compile(optimizer = 'adam',loss = SparseSoftmaxCrossEntropyWithLogits,metrics = ['accuracy',precision_m,recall_m])"
      ],
      "metadata": {
        "id": "BLvS1_jTNfTY"
      },
      "execution_count": 84,
      "outputs": []
    },
    {
      "cell_type": "code",
      "source": [
        "# y_train"
      ],
      "metadata": {
        "id": "_DcL3ul6ZZB_"
      },
      "execution_count": 85,
      "outputs": []
    },
    {
      "cell_type": "code",
      "source": [
        "#fit the model\n",
        "history = model.fit(X_train_seq_padded,y_train,batch_size = 1024,epochs = 2,validation_data=(X_test_seq_padded,y_test))"
      ],
      "metadata": {
        "colab": {
          "base_uri": "https://localhost:8080/"
        },
        "id": "_xpI_rEpNnVa",
        "outputId": "419a1dba-7dbf-41bb-cefa-71e61e73bf6f"
      },
      "execution_count": 87,
      "outputs": [
        {
          "output_type": "stream",
          "name": "stdout",
          "text": [
            "Epoch 1/2\n",
            "138/138 [==============================] - 37s 269ms/step - loss: 1.4201 - accuracy: 0.4305 - precision_m: 2.6919 - recall_m: 2.6919 - val_loss: 1.3701 - val_accuracy: 0.4376 - val_precision_m: 2.7157 - val_recall_m: 2.7157\n",
            "Epoch 2/2\n",
            "138/138 [==============================] - 37s 268ms/step - loss: 1.3156 - accuracy: 0.4682 - precision_m: 2.6806 - recall_m: 2.6806 - val_loss: 1.3280 - val_accuracy: 0.4627 - val_precision_m: 2.6759 - val_recall_m: 2.6759\n"
          ]
        }
      ]
    },
    {
      "cell_type": "code",
      "source": [
        "type(X_train_seq_padded)"
      ],
      "metadata": {
        "colab": {
          "base_uri": "https://localhost:8080/"
        },
        "id": "Ckw66MVpi6EP",
        "outputId": "4244844e-beb3-4772-b4c7-fa05f55a3057"
      },
      "execution_count": 92,
      "outputs": [
        {
          "output_type": "execute_result",
          "data": {
            "text/plain": [
              "numpy.ndarray"
            ]
          },
          "metadata": {},
          "execution_count": 92
        }
      ]
    },
    {
      "cell_type": "code",
      "source": [
        "y_pred = model.predict(X_train_seq_padded)\n"
      ],
      "metadata": {
        "colab": {
          "base_uri": "https://localhost:8080/"
        },
        "id": "vmxQ_xKKityB",
        "outputId": "7de6856b-3e1d-4233-b1f3-035e243d76dd"
      },
      "execution_count": 93,
      "outputs": [
        {
          "output_type": "stream",
          "name": "stdout",
          "text": [
            "4415/4415 [==============================] - 38s 9ms/step\n"
          ]
        }
      ]
    },
    {
      "cell_type": "code",
      "source": [
        "y_pred.shape"
      ],
      "metadata": {
        "colab": {
          "base_uri": "https://localhost:8080/"
        },
        "id": "mP4mosGDnJ_f",
        "outputId": "95429669-8cb5-4159-b7d9-6ddb288cd986"
      },
      "execution_count": 99,
      "outputs": [
        {
          "output_type": "execute_result",
          "data": {
            "text/plain": [
              "(141279,)"
            ]
          },
          "metadata": {},
          "execution_count": 99
        }
      ]
    },
    {
      "cell_type": "code",
      "source": [
        "y_train.shape"
      ],
      "metadata": {
        "colab": {
          "base_uri": "https://localhost:8080/"
        },
        "id": "ONKzHLLvnRYV",
        "outputId": "92d5c839-65d3-47d6-b518-b23ec85df891"
      },
      "execution_count": 100,
      "outputs": [
        {
          "output_type": "execute_result",
          "data": {
            "text/plain": [
              "(141279,)"
            ]
          },
          "metadata": {},
          "execution_count": 100
        }
      ]
    },
    {
      "cell_type": "code",
      "source": [],
      "metadata": {
        "id": "jm8HOM93m_5z"
      },
      "execution_count": 102,
      "outputs": []
    },
    {
      "cell_type": "code",
      "source": [
        "\n"
      ],
      "metadata": {
        "id": "m44BDTMgin5k"
      },
      "execution_count": 102,
      "outputs": []
    },
    {
      "cell_type": "code",
      "source": [
        "#plot evalutation metrics\n",
        "\n",
        "import matplotlib.pyplot as plt\n",
        "\n",
        "for i in ['accuracy','precision_m','recall_m']:\n",
        "  acc = history.history[i]\n",
        "  val_acc = history.history['val_{}'.format(i)]\n",
        "  epochs = range(1,len(acc)+1)\n",
        "\n",
        "  plt.figure()\n",
        "  plt.plot(epochs,acc,label = 'Training Accuracy')\n",
        "  plt.plot(epochs,val_acc,label = 'validation accuracy')\n",
        "  plt.title('Results for {}'.format(i))\n",
        "  plt.legend()\n",
        "  plt.show()"
      ],
      "metadata": {
        "colab": {
          "base_uri": "https://localhost:8080/",
          "height": 1000
        },
        "id": "8UQtX1VqhnE9",
        "outputId": "65c08b44-1e9d-4e17-c5d7-782b3c90229e"
      },
      "execution_count": 79,
      "outputs": [
        {
          "output_type": "display_data",
          "data": {
            "text/plain": [
              "<Figure size 640x480 with 1 Axes>"
            ],
            "image/png": "[encoded data removed]"
          },
          "metadata": {}
        },
        {
          "output_type": "display_data",
          "data": {
            "text/plain": [
              "<Figure size 640x480 with 1 Axes>"
            ],
            "image/png": "[encoded data removed]"
          },
          "metadata": {}
        },
        {
          "output_type": "display_data",
          "data": {
            "text/plain": [
              "<Figure size 640x480 with 1 Axes>"
            ],
            "image/png": "[encoded data removed]"
          },
          "metadata": {}
        }
      ]
    },
    {
      "cell_type": "code",
      "source": [
        "# model.save('model.pkl')\n",
        "# model.save_weights('ModelWeights')"
      ],
      "metadata": {
        "id": "Nhv2F2doNssH"
      },
      "execution_count": null,
      "outputs": []
    },
    {
      "cell_type": "code",
      "source": [
        "model.save('model_saved')"
      ],
      "metadata": {
        "colab": {
          "base_uri": "https://localhost:8080/"
        },
        "id": "0sGf6TkYla_J",
        "outputId": "dc6c55b3-2844-4345-9b4b-799c24e92c96"
      },
      "execution_count": 70,
      "outputs": [
        {
          "output_type": "stream",
          "name": "stderr",
          "text": [
            "WARNING:absl:Found untraced functions such as _update_step_xla, lstm_cell_3_layer_call_fn, lstm_cell_3_layer_call_and_return_conditional_losses while saving (showing 3 of 3). These functions will not be directly callable after loading.\n"
          ]
        }
      ]
    },
    {
      "cell_type": "code",
      "source": [
        "# from google.colab import files\n",
        "# files.download('model_saved')"
      ],
      "metadata": {
        "id": "corTIcLHdtqK"
      },
      "execution_count": 75,
      "outputs": []
    },
    {
      "cell_type": "code",
      "source": [
        "history = model.fit(X_train_seq_padded,y_train,batch_size = 128,epochs = 50,validation_data=(X_test_seq_padded,y_test))"
      ],
      "metadata": {
        "colab": {
          "base_uri": "https://localhost:8080/"
        },
        "id": "GHi9bXepegyo",
        "outputId": "37b118d0-7ee0-4a98-a879-d78118470ba8"
      },
      "execution_count": 76,
      "outputs": [
        {
          "output_type": "stream",
          "name": "stdout",
          "text": [
            "Epoch 1/50\n",
            "493/493 [==============================] - 32s 64ms/step - loss: 0.7985 - accuracy: 0.7047 - precision_m: 1.9024 - recall_m: 1.9024 - val_loss: 1.5884 - val_accuracy: 0.4463 - val_precision_m: 1.9878 - val_recall_m: 1.9878\n",
            "Epoch 2/50\n",
            "493/493 [==============================] - 30s 60ms/step - loss: 0.7502 - accuracy: 0.7226 - precision_m: 1.8273 - recall_m: 1.8273 - val_loss: 1.6437 - val_accuracy: 0.4345 - val_precision_m: 1.9870 - val_recall_m: 1.9870\n",
            "Epoch 3/50\n",
            "493/493 [==============================] - 30s 60ms/step - loss: 0.7046 - accuracy: 0.7403 - precision_m: 1.7691 - recall_m: 1.7691 - val_loss: 1.7468 - val_accuracy: 0.4382 - val_precision_m: 1.8655 - val_recall_m: 1.8655\n",
            "Epoch 4/50\n",
            "493/493 [==============================] - 30s 61ms/step - loss: 0.6578 - accuracy: 0.7597 - precision_m: 1.7152 - recall_m: 1.7152 - val_loss: 1.7895 - val_accuracy: 0.4411 - val_precision_m: 1.8488 - val_recall_m: 1.8488\n",
            "Epoch 5/50\n",
            "493/493 [==============================] - 30s 60ms/step - loss: 0.6188 - accuracy: 0.7729 - precision_m: 1.6703 - recall_m: 1.6703 - val_loss: 1.9076 - val_accuracy: 0.4348 - val_precision_m: 1.8206 - val_recall_m: 1.8206\n",
            "Epoch 6/50\n",
            "493/493 [==============================] - 29s 60ms/step - loss: 0.5789 - accuracy: 0.7870 - precision_m: 1.6214 - recall_m: 1.6214 - val_loss: 2.0548 - val_accuracy: 0.4300 - val_precision_m: 1.7701 - val_recall_m: 1.7701\n",
            "Epoch 7/50\n",
            "493/493 [==============================] - 30s 60ms/step - loss: 0.5446 - accuracy: 0.7986 - precision_m: 1.5922 - recall_m: 1.5922 - val_loss: 2.2121 - val_accuracy: 0.4294 - val_precision_m: 1.6942 - val_recall_m: 1.6942\n",
            "Epoch 8/50\n",
            "493/493 [==============================] - 30s 61ms/step - loss: 0.5106 - accuracy: 0.8112 - precision_m: 1.5535 - recall_m: 1.5535 - val_loss: 2.2684 - val_accuracy: 0.4216 - val_precision_m: 1.7255 - val_recall_m: 1.7255\n",
            "Epoch 9/50\n",
            "493/493 [==============================] - 30s 60ms/step - loss: 0.4808 - accuracy: 0.8236 - precision_m: 1.5252 - recall_m: 1.5252 - val_loss: 2.3658 - val_accuracy: 0.4155 - val_precision_m: 1.7524 - val_recall_m: 1.7524\n",
            "Epoch 10/50\n",
            "493/493 [==============================] - 30s 62ms/step - loss: 0.4575 - accuracy: 0.8309 - precision_m: 1.5010 - recall_m: 1.5010 - val_loss: 2.5895 - val_accuracy: 0.4242 - val_precision_m: 1.6332 - val_recall_m: 1.6332\n",
            "Epoch 11/50\n",
            "493/493 [==============================] - 30s 61ms/step - loss: 0.4325 - accuracy: 0.8396 - precision_m: 1.4730 - recall_m: 1.4730 - val_loss: 2.7640 - val_accuracy: 0.4192 - val_precision_m: 1.6357 - val_recall_m: 1.6357\n",
            "Epoch 12/50\n",
            "493/493 [==============================] - 30s 61ms/step - loss: 0.4087 - accuracy: 0.8484 - precision_m: 1.4499 - recall_m: 1.4499 - val_loss: 2.8563 - val_accuracy: 0.4126 - val_precision_m: 1.6342 - val_recall_m: 1.6342\n",
            "Epoch 13/50\n",
            "493/493 [==============================] - 30s 60ms/step - loss: 0.3873 - accuracy: 0.8574 - precision_m: 1.4269 - recall_m: 1.4269 - val_loss: 3.2276 - val_accuracy: 0.4075 - val_precision_m: 1.5649 - val_recall_m: 1.5649\n",
            "Epoch 14/50\n",
            "493/493 [==============================] - 32s 65ms/step - loss: 0.3740 - accuracy: 0.8603 - precision_m: 1.4102 - recall_m: 1.4102 - val_loss: 3.2500 - val_accuracy: 0.4137 - val_precision_m: 1.5631 - val_recall_m: 1.5631\n",
            "Epoch 15/50\n",
            "493/493 [==============================] - 29s 59ms/step - loss: 0.3563 - accuracy: 0.8662 - precision_m: 1.3943 - recall_m: 1.3943 - val_loss: 3.4460 - val_accuracy: 0.4086 - val_precision_m: 1.5451 - val_recall_m: 1.5451\n",
            "Epoch 16/50\n",
            "493/493 [==============================] - 29s 59ms/step - loss: 0.3417 - accuracy: 0.8727 - precision_m: 1.3790 - recall_m: 1.3790 - val_loss: 3.4057 - val_accuracy: 0.4107 - val_precision_m: 1.5762 - val_recall_m: 1.5762\n",
            "Epoch 17/50\n",
            "493/493 [==============================] - 29s 59ms/step - loss: 0.3230 - accuracy: 0.8797 - precision_m: 1.3628 - recall_m: 1.3628 - val_loss: 3.7167 - val_accuracy: 0.4016 - val_precision_m: 1.5365 - val_recall_m: 1.5365\n",
            "Epoch 18/50\n",
            "493/493 [==============================] - 29s 60ms/step - loss: 0.3149 - accuracy: 0.8817 - precision_m: 1.3525 - recall_m: 1.3525 - val_loss: 3.7754 - val_accuracy: 0.4029 - val_precision_m: 1.5297 - val_recall_m: 1.5297\n",
            "Epoch 19/50\n",
            "493/493 [==============================] - 30s 60ms/step - loss: 0.3029 - accuracy: 0.8865 - precision_m: 1.3378 - recall_m: 1.3378 - val_loss: 4.1078 - val_accuracy: 0.4125 - val_precision_m: 1.4770 - val_recall_m: 1.4770\n",
            "Epoch 20/50\n",
            "493/493 [==============================] - 30s 60ms/step - loss: 0.2929 - accuracy: 0.8907 - precision_m: 1.3288 - recall_m: 1.3288 - val_loss: 4.2527 - val_accuracy: 0.4104 - val_precision_m: 1.4390 - val_recall_m: 1.4390\n",
            "Epoch 21/50\n",
            "493/493 [==============================] - 31s 63ms/step - loss: 0.2773 - accuracy: 0.8976 - precision_m: 1.3118 - recall_m: 1.3118 - val_loss: 4.3775 - val_accuracy: 0.4028 - val_precision_m: 1.4615 - val_recall_m: 1.4615\n",
            "Epoch 22/50\n",
            "493/493 [==============================] - 30s 62ms/step - loss: 0.2664 - accuracy: 0.9007 - precision_m: 1.2998 - recall_m: 1.2998 - val_loss: 4.6563 - val_accuracy: 0.4041 - val_precision_m: 1.4224 - val_recall_m: 1.4224\n",
            "Epoch 23/50\n",
            "493/493 [==============================] - 30s 61ms/step - loss: 0.2566 - accuracy: 0.9045 - precision_m: 1.2894 - recall_m: 1.2894 - val_loss: 4.8341 - val_accuracy: 0.3996 - val_precision_m: 1.4254 - val_recall_m: 1.4254\n",
            "Epoch 24/50\n",
            "493/493 [==============================] - 30s 60ms/step - loss: 0.2497 - accuracy: 0.9067 - precision_m: 1.2812 - recall_m: 1.2812 - val_loss: 4.9999 - val_accuracy: 0.4038 - val_precision_m: 1.3963 - val_recall_m: 1.3963\n",
            "Epoch 25/50\n",
            "493/493 [==============================] - 30s 60ms/step - loss: 0.2432 - accuracy: 0.9084 - precision_m: 1.2743 - recall_m: 1.2743 - val_loss: 4.9978 - val_accuracy: 0.4028 - val_precision_m: 1.4068 - val_recall_m: 1.4068\n",
            "Epoch 26/50\n",
            "493/493 [==============================] - 30s 60ms/step - loss: 0.2363 - accuracy: 0.9121 - precision_m: 1.2680 - recall_m: 1.2680 - val_loss: 5.0748 - val_accuracy: 0.3990 - val_precision_m: 1.4103 - val_recall_m: 1.4103\n",
            "Epoch 27/50\n",
            "493/493 [==============================] - 29s 60ms/step - loss: 0.2273 - accuracy: 0.9151 - precision_m: 1.2589 - recall_m: 1.2589 - val_loss: 5.3479 - val_accuracy: 0.3981 - val_precision_m: 1.3947 - val_recall_m: 1.3947\n",
            "Epoch 28/50\n",
            "493/493 [==============================] - 30s 60ms/step - loss: 0.2195 - accuracy: 0.9178 - precision_m: 1.2492 - recall_m: 1.2492 - val_loss: 5.5802 - val_accuracy: 0.3990 - val_precision_m: 1.3671 - val_recall_m: 1.3671\n",
            "Epoch 29/50\n",
            "493/493 [==============================] - 29s 60ms/step - loss: 0.2122 - accuracy: 0.9207 - precision_m: 1.2403 - recall_m: 1.2403 - val_loss: 5.7206 - val_accuracy: 0.4022 - val_precision_m: 1.3514 - val_recall_m: 1.3514\n",
            "Epoch 30/50\n",
            "493/493 [==============================] - 30s 60ms/step - loss: 0.2091 - accuracy: 0.9223 - precision_m: 1.2337 - recall_m: 1.2337 - val_loss: 5.8222 - val_accuracy: 0.3935 - val_precision_m: 1.3654 - val_recall_m: 1.3654\n",
            "Epoch 31/50\n",
            "493/493 [==============================] - 29s 59ms/step - loss: 0.2039 - accuracy: 0.9239 - precision_m: 1.2322 - recall_m: 1.2322 - val_loss: 5.9533 - val_accuracy: 0.3920 - val_precision_m: 1.3579 - val_recall_m: 1.3579\n",
            "Epoch 32/50\n",
            "493/493 [==============================] - 33s 66ms/step - loss: 0.1934 - accuracy: 0.9283 - precision_m: 1.2216 - recall_m: 1.2216 - val_loss: 6.0926 - val_accuracy: 0.3955 - val_precision_m: 1.3532 - val_recall_m: 1.3532\n",
            "Epoch 33/50\n",
            "493/493 [==============================] - 33s 66ms/step - loss: 0.1910 - accuracy: 0.9289 - precision_m: 1.2165 - recall_m: 1.2165 - val_loss: 6.1844 - val_accuracy: 0.3952 - val_precision_m: 1.3397 - val_recall_m: 1.3397\n",
            "Epoch 34/50\n",
            "493/493 [==============================] - 30s 62ms/step - loss: 0.1858 - accuracy: 0.9313 - precision_m: 1.2130 - recall_m: 1.2130 - val_loss: 6.2078 - val_accuracy: 0.4006 - val_precision_m: 1.3316 - val_recall_m: 1.3316\n",
            "Epoch 35/50\n",
            "493/493 [==============================] - 30s 62ms/step - loss: 0.1762 - accuracy: 0.9345 - precision_m: 1.2030 - recall_m: 1.2030 - val_loss: 6.4363 - val_accuracy: 0.3930 - val_precision_m: 1.3326 - val_recall_m: 1.3326\n",
            "Epoch 36/50\n",
            "493/493 [==============================] - 30s 62ms/step - loss: 0.1770 - accuracy: 0.9335 - precision_m: 1.2023 - recall_m: 1.2023 - val_loss: 6.6159 - val_accuracy: 0.3995 - val_precision_m: 1.3026 - val_recall_m: 1.3026\n",
            "Epoch 37/50\n",
            "493/493 [==============================] - 30s 62ms/step - loss: 0.1724 - accuracy: 0.9358 - precision_m: 1.1969 - recall_m: 1.1969 - val_loss: 6.7725 - val_accuracy: 0.4021 - val_precision_m: 1.3006 - val_recall_m: 1.3006\n",
            "Epoch 38/50\n",
            "493/493 [==============================] - 31s 62ms/step - loss: 0.1675 - accuracy: 0.9380 - precision_m: 1.1892 - recall_m: 1.1892 - val_loss: 6.8570 - val_accuracy: 0.3924 - val_precision_m: 1.3065 - val_recall_m: 1.3065\n",
            "Epoch 39/50\n",
            "493/493 [==============================] - 33s 67ms/step - loss: 0.1618 - accuracy: 0.9391 - precision_m: 1.1874 - recall_m: 1.1874 - val_loss: 6.9155 - val_accuracy: 0.3982 - val_precision_m: 1.2992 - val_recall_m: 1.2992\n",
            "Epoch 40/50\n",
            "493/493 [==============================] - 30s 62ms/step - loss: 0.1565 - accuracy: 0.9408 - precision_m: 1.1788 - recall_m: 1.1788 - val_loss: 7.2591 - val_accuracy: 0.3960 - val_precision_m: 1.2896 - val_recall_m: 1.2896\n",
            "Epoch 41/50\n",
            "493/493 [==============================] - 31s 62ms/step - loss: 0.1563 - accuracy: 0.9419 - precision_m: 1.1776 - recall_m: 1.1776 - val_loss: 7.2775 - val_accuracy: 0.4031 - val_precision_m: 1.2822 - val_recall_m: 1.2822\n",
            "Epoch 42/50\n",
            "493/493 [==============================] - 31s 62ms/step - loss: 0.1526 - accuracy: 0.9433 - precision_m: 1.1743 - recall_m: 1.1743 - val_loss: 7.2313 - val_accuracy: 0.3932 - val_precision_m: 1.3060 - val_recall_m: 1.3060\n",
            "Epoch 43/50\n",
            "493/493 [==============================] - 31s 62ms/step - loss: 0.1498 - accuracy: 0.9455 - precision_m: 1.1708 - recall_m: 1.1708 - val_loss: 7.4368 - val_accuracy: 0.3921 - val_precision_m: 1.2843 - val_recall_m: 1.2843\n",
            "Epoch 44/50\n",
            "493/493 [==============================] - 31s 62ms/step - loss: 0.1451 - accuracy: 0.9459 - precision_m: 1.1668 - recall_m: 1.1668 - val_loss: 7.2913 - val_accuracy: 0.3959 - val_precision_m: 1.2930 - val_recall_m: 1.2930\n",
            "Epoch 45/50\n",
            "493/493 [==============================] - 31s 62ms/step - loss: 0.1423 - accuracy: 0.9472 - precision_m: 1.1647 - recall_m: 1.1647 - val_loss: 7.6514 - val_accuracy: 0.3997 - val_precision_m: 1.2556 - val_recall_m: 1.2556\n",
            "Epoch 46/50\n",
            "493/493 [==============================] - 31s 62ms/step - loss: 0.1359 - accuracy: 0.9495 - precision_m: 1.1575 - recall_m: 1.1575 - val_loss: 7.7917 - val_accuracy: 0.3947 - val_precision_m: 1.2666 - val_recall_m: 1.2666\n",
            "Epoch 47/50\n",
            "493/493 [==============================] - 31s 63ms/step - loss: 0.1316 - accuracy: 0.9505 - precision_m: 1.1529 - recall_m: 1.1529 - val_loss: 7.8900 - val_accuracy: 0.3958 - val_precision_m: 1.2636 - val_recall_m: 1.2636\n",
            "Epoch 48/50\n",
            "493/493 [==============================] - 33s 66ms/step - loss: 0.1360 - accuracy: 0.9489 - precision_m: 1.1540 - recall_m: 1.1540 - val_loss: 8.0311 - val_accuracy: 0.3917 - val_precision_m: 1.2635 - val_recall_m: 1.2635\n",
            "Epoch 49/50\n",
            "493/493 [==============================] - 31s 63ms/step - loss: 0.1285 - accuracy: 0.9518 - precision_m: 1.1491 - recall_m: 1.1491 - val_loss: 7.8883 - val_accuracy: 0.3912 - val_precision_m: 1.2700 - val_recall_m: 1.2700\n",
            "Epoch 50/50\n",
            "493/493 [==============================] - 31s 62ms/step - loss: 0.1268 - accuracy: 0.9527 - precision_m: 1.1434 - recall_m: 1.1434 - val_loss: 8.2257 - val_accuracy: 0.3959 - val_precision_m: 1.2521 - val_recall_m: 1.2521\n"
          ]
        }
      ]
    },
    {
      "cell_type": "code",
      "source": [
        "model.save('model_saved_ep50')"
      ],
      "metadata": {
        "colab": {
          "base_uri": "https://localhost:8080/"
        },
        "id": "S-YqlLKJJ1kJ",
        "outputId": "e48db96b-2aba-47d7-c3b0-4c9b1ffd8f21"
      },
      "execution_count": 77,
      "outputs": [
        {
          "output_type": "stream",
          "name": "stderr",
          "text": [
            "WARNING:absl:Found untraced functions such as _update_step_xla, lstm_cell_3_layer_call_fn, lstm_cell_3_layer_call_and_return_conditional_losses while saving (showing 3 of 3). These functions will not be directly callable after loading.\n"
          ]
        }
      ]
    },
    {
      "cell_type": "code",
      "source": [
        "#plot evalutation metrics\n",
        "\n",
        "import matplotlib.pyplot as plt\n",
        "\n",
        "for i in ['accuracy','precision_m','recall_m']:\n",
        "  acc = history.history[i]\n",
        "  val_acc = history.history['val_{}'.format(i)]\n",
        "  epochs = range(1,len(acc)+1)\n",
        "\n",
        "  plt.figure()\n",
        "  plt.plot(epochs,acc,label = 'Training Accuracy')\n",
        "  plt.plot(epochs,val_acc,label = 'validation accuracy')\n",
        "  plt.title('Results for {}'.format(i))\n",
        "  plt.legend()\n",
        "  plt.show()"
      ],
      "metadata": {
        "colab": {
          "base_uri": "https://localhost:8080/",
          "height": 1000
        },
        "id": "Wf1NvxUxmDqM",
        "outputId": "45bb3be1-28af-46b5-cd17-fcf3d287e5ea"
      },
      "execution_count": 87,
      "outputs": [
        {
          "output_type": "display_data",
          "data": {
            "text/plain": [
              "<Figure size 640x480 with 1 Axes>"
            ],
            "image/png": "[encoded data removed]"
          },
          "metadata": {}
        },
        {
          "output_type": "display_data",
          "data": {
            "text/plain": [
              "<Figure size 640x480 with 1 Axes>"
            ],
            "image/png": "[encoded data removed]"
          },
          "metadata": {}
        },
        {
          "output_type": "display_data",
          "data": {
            "text/plain": [
              "<Figure size 640x480 with 1 Axes>"
            ],
            "image/png": "[encoded data removed]"
          },
          "metadata": {}
        }
      ]
    },
    {
      "cell_type": "code",
      "source": [
        "# model.save('model_saved')"
      ],
      "metadata": {
        "id": "rDDmkrhgmHDQ"
      },
      "execution_count": 85,
      "outputs": []
    },
    {
      "cell_type": "code",
      "source": [
        "history = model.fit(X_train_seq_padded,y_train,batch_size = 256,epochs = 100,validation_data=(X_test_seq_padded,y_test))"
      ],
      "metadata": {
        "colab": {
          "base_uri": "https://localhost:8080/"
        },
        "id": "vFoCYKSYmM2s",
        "outputId": "ac4b8662-bec8-40c4-b468-5c5fc7758ba1"
      },
      "execution_count": null,
      "outputs": [
        {
          "output_type": "stream",
          "name": "stdout",
          "text": [
            "Epoch 1/100\n",
            "247/247 [==============================] - 22s 88ms/step - loss: 0.1072 - accuracy: 0.9601 - precision_m: 1.1333 - recall_m: 1.1333 - val_loss: 8.5980 - val_accuracy: 0.3985 - val_precision_m: 1.2417 - val_recall_m: 1.2417\n",
            "Epoch 2/100\n",
            "247/247 [==============================] - 23s 92ms/step - loss: 0.0971 - accuracy: 0.9636 - precision_m: 1.1210 - recall_m: 1.1210 - val_loss: 8.8122 - val_accuracy: 0.3952 - val_precision_m: 1.2419 - val_recall_m: 1.2419\n",
            "Epoch 3/100\n",
            "247/247 [==============================] - 21s 83ms/step - loss: 0.0946 - accuracy: 0.9651 - precision_m: 1.1175 - recall_m: 1.1175 - val_loss: 9.0473 - val_accuracy: 0.3951 - val_precision_m: 1.2320 - val_recall_m: 1.2320\n",
            "Epoch 4/100\n",
            "247/247 [==============================] - 23s 92ms/step - loss: 0.0920 - accuracy: 0.9657 - precision_m: 1.1138 - recall_m: 1.1138 - val_loss: 9.2834 - val_accuracy: 0.3957 - val_precision_m: 1.2280 - val_recall_m: 1.2280\n",
            "Epoch 5/100\n",
            "247/247 [==============================] - 20s 83ms/step - loss: 0.0908 - accuracy: 0.9659 - precision_m: 1.1110 - recall_m: 1.1110 - val_loss: 9.5520 - val_accuracy: 0.3931 - val_precision_m: 1.2254 - val_recall_m: 1.2254\n",
            "Epoch 6/100\n",
            "247/247 [==============================] - 23s 92ms/step - loss: 0.0900 - accuracy: 0.9665 - precision_m: 1.1096 - recall_m: 1.1096 - val_loss: 9.7478 - val_accuracy: 0.3959 - val_precision_m: 1.2197 - val_recall_m: 1.2197\n",
            "Epoch 7/100\n",
            "247/247 [==============================] - 21s 83ms/step - loss: 0.0905 - accuracy: 0.9659 - precision_m: 1.1098 - recall_m: 1.1098 - val_loss: 9.8512 - val_accuracy: 0.3914 - val_precision_m: 1.2197 - val_recall_m: 1.2197\n",
            "Epoch 8/100\n",
            "247/247 [==============================] - 22s 90ms/step - loss: 0.0892 - accuracy: 0.9662 - precision_m: 1.1081 - recall_m: 1.1081 - val_loss: 9.8777 - val_accuracy: 0.3896 - val_precision_m: 1.2116 - val_recall_m: 1.2116\n",
            "Epoch 9/100\n",
            "247/247 [==============================] - 21s 86ms/step - loss: 0.1004 - accuracy: 0.9626 - precision_m: 1.1133 - recall_m: 1.1133 - val_loss: 9.6898 - val_accuracy: 0.3909 - val_precision_m: 1.2232 - val_recall_m: 1.2232\n",
            "Epoch 10/100\n",
            "247/247 [==============================] - 22s 90ms/step - loss: 0.1087 - accuracy: 0.9594 - precision_m: 1.1216 - recall_m: 1.1216 - val_loss: 9.6672 - val_accuracy: 0.3943 - val_precision_m: 1.2202 - val_recall_m: 1.2202\n",
            "Epoch 11/100\n",
            "247/247 [==============================] - 21s 86ms/step - loss: 0.1071 - accuracy: 0.9610 - precision_m: 1.1201 - recall_m: 1.1201 - val_loss: 9.4271 - val_accuracy: 0.3895 - val_precision_m: 1.2284 - val_recall_m: 1.2284\n",
            "Epoch 12/100\n",
            "247/247 [==============================] - 22s 90ms/step - loss: 0.0970 - accuracy: 0.9632 - precision_m: 1.1157 - recall_m: 1.1157 - val_loss: 9.6918 - val_accuracy: 0.3897 - val_precision_m: 1.2228 - val_recall_m: 1.2228\n",
            "Epoch 13/100\n",
            "247/247 [==============================] - 21s 84ms/step - loss: 0.0873 - accuracy: 0.9678 - precision_m: 1.1079 - recall_m: 1.1079 - val_loss: 9.8898 - val_accuracy: 0.3877 - val_precision_m: 1.2227 - val_recall_m: 1.2227\n",
            "Epoch 14/100\n",
            "247/247 [==============================] - 22s 90ms/step - loss: 0.0832 - accuracy: 0.9688 - precision_m: 1.1010 - recall_m: 1.1010 - val_loss: 10.2837 - val_accuracy: 0.3894 - val_precision_m: 1.2091 - val_recall_m: 1.2091\n",
            "Epoch 15/100\n",
            "247/247 [==============================] - 21s 86ms/step - loss: 0.0857 - accuracy: 0.9674 - precision_m: 1.1043 - recall_m: 1.1043 - val_loss: 10.1944 - val_accuracy: 0.3912 - val_precision_m: 1.2076 - val_recall_m: 1.2076\n",
            "Epoch 16/100\n",
            "247/247 [==============================] - 22s 89ms/step - loss: 0.0852 - accuracy: 0.9678 - precision_m: 1.1023 - recall_m: 1.1023 - val_loss: 10.1945 - val_accuracy: 0.3888 - val_precision_m: 1.2095 - val_recall_m: 1.2095\n",
            "Epoch 17/100\n",
            "247/247 [==============================] - 21s 83ms/step - loss: 0.0821 - accuracy: 0.9688 - precision_m: 1.0993 - recall_m: 1.0993 - val_loss: 10.6200 - val_accuracy: 0.3838 - val_precision_m: 1.2043 - val_recall_m: 1.2043\n",
            "Epoch 18/100\n",
            "247/247 [==============================] - 22s 88ms/step - loss: 0.0854 - accuracy: 0.9674 - precision_m: 1.1002 - recall_m: 1.1002 - val_loss: 10.6526 - val_accuracy: 0.3903 - val_precision_m: 1.1985 - val_recall_m: 1.1985\n",
            "Epoch 19/100\n",
            "247/247 [==============================] - 21s 86ms/step - loss: 0.0910 - accuracy: 0.9663 - precision_m: 1.1032 - recall_m: 1.1032 - val_loss: 10.2700 - val_accuracy: 0.3888 - val_precision_m: 1.2134 - val_recall_m: 1.2134\n",
            "Epoch 20/100\n",
            "247/247 [==============================] - 22s 90ms/step - loss: 0.0911 - accuracy: 0.9663 - precision_m: 1.1065 - recall_m: 1.1065 - val_loss: 10.6663 - val_accuracy: 0.3849 - val_precision_m: 1.2089 - val_recall_m: 1.2089\n",
            "Epoch 21/100\n",
            "247/247 [==============================] - 21s 86ms/step - loss: 0.0851 - accuracy: 0.9678 - precision_m: 1.0992 - recall_m: 1.0992 - val_loss: 10.6429 - val_accuracy: 0.3881 - val_precision_m: 1.2063 - val_recall_m: 1.2063\n",
            "Epoch 22/100\n",
            "247/247 [==============================] - 22s 89ms/step - loss: 0.0791 - accuracy: 0.9695 - precision_m: 1.0955 - recall_m: 1.0955 - val_loss: 10.7723 - val_accuracy: 0.3856 - val_precision_m: 1.2019 - val_recall_m: 1.2019\n",
            "Epoch 23/100\n",
            "247/247 [==============================] - 21s 86ms/step - loss: 0.0774 - accuracy: 0.9700 - precision_m: 1.0935 - recall_m: 1.0935 - val_loss: 10.7653 - val_accuracy: 0.3872 - val_precision_m: 1.2020 - val_recall_m: 1.2020\n",
            "Epoch 24/100\n",
            "247/247 [==============================] - 22s 89ms/step - loss: 0.0821 - accuracy: 0.9686 - precision_m: 1.0963 - recall_m: 1.0963 - val_loss: 10.8912 - val_accuracy: 0.3897 - val_precision_m: 1.1960 - val_recall_m: 1.1960\n",
            "Epoch 25/100\n",
            "247/247 [==============================] - 21s 86ms/step - loss: 0.0780 - accuracy: 0.9696 - precision_m: 1.0935 - recall_m: 1.0935 - val_loss: 10.9896 - val_accuracy: 0.3952 - val_precision_m: 1.1941 - val_recall_m: 1.1941\n",
            "Epoch 26/100\n",
            "247/247 [==============================] - 24s 98ms/step - loss: 0.0776 - accuracy: 0.9707 - precision_m: 1.0922 - recall_m: 1.0922 - val_loss: 11.1574 - val_accuracy: 0.3850 - val_precision_m: 1.1902 - val_recall_m: 1.1902\n",
            "Epoch 27/100\n",
            "247/247 [==============================] - 21s 86ms/step - loss: 0.0778 - accuracy: 0.9699 - precision_m: 1.0914 - recall_m: 1.0914 - val_loss: 11.0167 - val_accuracy: 0.3882 - val_precision_m: 1.2024 - val_recall_m: 1.2024\n",
            "Epoch 28/100\n",
            "247/247 [==============================] - 23s 93ms/step - loss: 0.0838 - accuracy: 0.9687 - precision_m: 1.0971 - recall_m: 1.0971 - val_loss: 11.1260 - val_accuracy: 0.3893 - val_precision_m: 1.1939 - val_recall_m: 1.1939\n",
            "Epoch 29/100\n",
            "247/247 [==============================] - 21s 83ms/step - loss: 0.0751 - accuracy: 0.9711 - precision_m: 1.0904 - recall_m: 1.0904 - val_loss: 11.2696 - val_accuracy: 0.3884 - val_precision_m: 1.1868 - val_recall_m: 1.1868\n",
            "Epoch 30/100\n",
            "247/247 [==============================] - 23s 94ms/step - loss: 0.0710 - accuracy: 0.9726 - precision_m: 1.0855 - recall_m: 1.0855 - val_loss: 11.4853 - val_accuracy: 0.3954 - val_precision_m: 1.1827 - val_recall_m: 1.1827\n",
            "Epoch 31/100\n",
            "247/247 [==============================] - 21s 84ms/step - loss: 0.0679 - accuracy: 0.9736 - precision_m: 1.0828 - recall_m: 1.0828 - val_loss: 11.5914 - val_accuracy: 0.3857 - val_precision_m: 1.1904 - val_recall_m: 1.1904\n",
            "Epoch 32/100\n",
            "247/247 [==============================] - 23s 93ms/step - loss: 0.0676 - accuracy: 0.9735 - precision_m: 1.0811 - recall_m: 1.0811 - val_loss: 11.7651 - val_accuracy: 0.3876 - val_precision_m: 1.1836 - val_recall_m: 1.1836\n",
            "Epoch 33/100\n",
            "247/247 [==============================] - 21s 86ms/step - loss: 0.0796 - accuracy: 0.9704 - precision_m: 1.0877 - recall_m: 1.0877 - val_loss: 11.1990 - val_accuracy: 0.3845 - val_precision_m: 1.1949 - val_recall_m: 1.1949\n",
            "Epoch 34/100\n",
            "247/247 [==============================] - 23s 93ms/step - loss: 0.0825 - accuracy: 0.9691 - precision_m: 1.0919 - recall_m: 1.0919 - val_loss: 11.2537 - val_accuracy: 0.3850 - val_precision_m: 1.1972 - val_recall_m: 1.1972\n",
            "Epoch 35/100\n",
            "247/247 [==============================] - 21s 87ms/step - loss: 0.0804 - accuracy: 0.9696 - precision_m: 1.0913 - recall_m: 1.0913 - val_loss: 11.3925 - val_accuracy: 0.3859 - val_precision_m: 1.1933 - val_recall_m: 1.1933\n",
            "Epoch 36/100\n",
            "247/247 [==============================] - 23s 92ms/step - loss: 0.0731 - accuracy: 0.9726 - precision_m: 1.0852 - recall_m: 1.0852 - val_loss: 11.5071 - val_accuracy: 0.3861 - val_precision_m: 1.1945 - val_recall_m: 1.1945\n",
            "Epoch 37/100\n",
            "247/247 [==============================] - 22s 87ms/step - loss: 0.0678 - accuracy: 0.9734 - precision_m: 1.0827 - recall_m: 1.0827 - val_loss: 11.6364 - val_accuracy: 0.3894 - val_precision_m: 1.1855 - val_recall_m: 1.1855\n",
            "Epoch 38/100\n",
            "247/247 [==============================] - 23s 92ms/step - loss: 0.0647 - accuracy: 0.9750 - precision_m: 1.0774 - recall_m: 1.0774 - val_loss: 11.7425 - val_accuracy: 0.3885 - val_precision_m: 1.1820 - val_recall_m: 1.1820\n",
            "Epoch 39/100\n",
            "247/247 [==============================] - 24s 98ms/step - loss: 0.0663 - accuracy: 0.9744 - precision_m: 1.0806 - recall_m: 1.0806 - val_loss: 12.1161 - val_accuracy: 0.3822 - val_precision_m: 1.1854 - val_recall_m: 1.1854\n",
            "Epoch 40/100\n",
            "247/247 [==============================] - 21s 84ms/step - loss: 0.0664 - accuracy: 0.9743 - precision_m: 1.0806 - recall_m: 1.0806 - val_loss: 12.0624 - val_accuracy: 0.3866 - val_precision_m: 1.1794 - val_recall_m: 1.1794\n",
            "Epoch 41/100\n",
            "247/247 [==============================] - 23s 92ms/step - loss: 0.0641 - accuracy: 0.9753 - precision_m: 1.0776 - recall_m: 1.0776 - val_loss: 12.2181 - val_accuracy: 0.3848 - val_precision_m: 1.1796 - val_recall_m: 1.1796\n",
            "Epoch 42/100\n",
            "247/247 [==============================] - 21s 85ms/step - loss: 0.0624 - accuracy: 0.9750 - precision_m: 1.0757 - recall_m: 1.0757 - val_loss: 12.5919 - val_accuracy: 0.3880 - val_precision_m: 1.1714 - val_recall_m: 1.1714\n",
            "Epoch 43/100\n",
            "247/247 [==============================] - 22s 91ms/step - loss: 0.0616 - accuracy: 0.9761 - precision_m: 1.0741 - recall_m: 1.0741 - val_loss: 12.5762 - val_accuracy: 0.3873 - val_precision_m: 1.1707 - val_recall_m: 1.1707\n",
            "Epoch 44/100\n",
            "247/247 [==============================] - 22s 88ms/step - loss: 0.0661 - accuracy: 0.9743 - precision_m: 1.0771 - recall_m: 1.0771 - val_loss: 12.4542 - val_accuracy: 0.3886 - val_precision_m: 1.1719 - val_recall_m: 1.1719\n",
            "Epoch 45/100\n",
            "247/247 [==============================] - 23s 94ms/step - loss: 0.0808 - accuracy: 0.9698 - precision_m: 1.0849 - recall_m: 1.0849 - val_loss: 12.1232 - val_accuracy: 0.3914 - val_precision_m: 1.1784 - val_recall_m: 1.1784\n",
            "Epoch 46/100\n",
            "247/247 [==============================] - 21s 86ms/step - loss: 0.0790 - accuracy: 0.9708 - precision_m: 1.0872 - recall_m: 1.0872 - val_loss: 12.2527 - val_accuracy: 0.3865 - val_precision_m: 1.1746 - val_recall_m: 1.1746\n",
            "Epoch 47/100\n",
            "247/247 [==============================] - 23s 91ms/step - loss: 0.0698 - accuracy: 0.9732 - precision_m: 1.0815 - recall_m: 1.0815 - val_loss: 12.1470 - val_accuracy: 0.3874 - val_precision_m: 1.1810 - val_recall_m: 1.1810\n",
            "Epoch 48/100\n",
            "247/247 [==============================] - 22s 87ms/step - loss: 0.0637 - accuracy: 0.9751 - precision_m: 1.0772 - recall_m: 1.0772 - val_loss: 12.3774 - val_accuracy: 0.3865 - val_precision_m: 1.1762 - val_recall_m: 1.1762\n",
            "Epoch 49/100\n",
            "247/247 [==============================] - 22s 91ms/step - loss: 0.0621 - accuracy: 0.9763 - precision_m: 1.0748 - recall_m: 1.0748 - val_loss: 12.4004 - val_accuracy: 0.3830 - val_precision_m: 1.1816 - val_recall_m: 1.1816\n",
            "Epoch 50/100\n",
            "247/247 [==============================] - 21s 87ms/step - loss: 0.0598 - accuracy: 0.9766 - precision_m: 1.0725 - recall_m: 1.0725 - val_loss: 12.6127 - val_accuracy: 0.3858 - val_precision_m: 1.1766 - val_recall_m: 1.1766\n",
            "Epoch 51/100\n",
            "247/247 [==============================] - 22s 90ms/step - loss: 0.0577 - accuracy: 0.9775 - precision_m: 1.0703 - recall_m: 1.0703 - val_loss: 12.7728 - val_accuracy: 0.3870 - val_precision_m: 1.1752 - val_recall_m: 1.1752\n",
            "Epoch 52/100\n",
            "247/247 [==============================] - 21s 86ms/step - loss: 0.0558 - accuracy: 0.9782 - precision_m: 1.0680 - recall_m: 1.0680 - val_loss: 12.8281 - val_accuracy: 0.3844 - val_precision_m: 1.1698 - val_recall_m: 1.1698\n",
            "Epoch 53/100\n",
            "247/247 [==============================] - 23s 93ms/step - loss: 0.0638 - accuracy: 0.9759 - precision_m: 1.0730 - recall_m: 1.0730 - val_loss: 12.6583 - val_accuracy: 0.3854 - val_precision_m: 1.1714 - val_recall_m: 1.1714\n",
            "Epoch 54/100\n",
            "247/247 [==============================] - 21s 84ms/step - loss: 0.0655 - accuracy: 0.9745 - precision_m: 1.0763 - recall_m: 1.0763 - val_loss: 12.4984 - val_accuracy: 0.3891 - val_precision_m: 1.1725 - val_recall_m: 1.1725\n",
            "Epoch 55/100\n",
            "247/247 [==============================] - 23s 92ms/step - loss: 0.0684 - accuracy: 0.9741 - precision_m: 1.0754 - recall_m: 1.0754 - val_loss: 12.7830 - val_accuracy: 0.3865 - val_precision_m: 1.1667 - val_recall_m: 1.1667\n",
            "Epoch 56/100\n",
            "247/247 [==============================] - 21s 85ms/step - loss: 0.0702 - accuracy: 0.9733 - precision_m: 1.0792 - recall_m: 1.0792 - val_loss: 12.4262 - val_accuracy: 0.3856 - val_precision_m: 1.1776 - val_recall_m: 1.1776\n",
            "Epoch 57/100\n",
            "247/247 [==============================] - 22s 90ms/step - loss: 0.0633 - accuracy: 0.9759 - precision_m: 1.0751 - recall_m: 1.0751 - val_loss: 12.5586 - val_accuracy: 0.3884 - val_precision_m: 1.1696 - val_recall_m: 1.1696\n",
            "Epoch 58/100\n",
            "247/247 [==============================] - 21s 86ms/step - loss: 0.0586 - accuracy: 0.9773 - precision_m: 1.0693 - recall_m: 1.0693 - val_loss: 12.6525 - val_accuracy: 0.3857 - val_precision_m: 1.1773 - val_recall_m: 1.1773\n",
            "Epoch 59/100\n",
            "247/247 [==============================] - 23s 92ms/step - loss: 0.0595 - accuracy: 0.9771 - precision_m: 1.0729 - recall_m: 1.0729 - val_loss: 12.8163 - val_accuracy: 0.3927 - val_precision_m: 1.1605 - val_recall_m: 1.1605\n",
            "Epoch 60/100\n",
            "247/247 [==============================] - 21s 83ms/step - loss: 0.0561 - accuracy: 0.9779 - precision_m: 1.0681 - recall_m: 1.0681 - val_loss: 12.9242 - val_accuracy: 0.3892 - val_precision_m: 1.1611 - val_recall_m: 1.1611\n",
            "Epoch 61/100\n",
            "247/247 [==============================] - 23s 93ms/step - loss: 0.0522 - accuracy: 0.9790 - precision_m: 1.0655 - recall_m: 1.0655 - val_loss: 13.0978 - val_accuracy: 0.3820 - val_precision_m: 1.1640 - val_recall_m: 1.1640\n",
            "Epoch 62/100\n",
            "247/247 [==============================] - 21s 86ms/step - loss: 0.0544 - accuracy: 0.9784 - precision_m: 1.0643 - recall_m: 1.0643 - val_loss: 13.2631 - val_accuracy: 0.3903 - val_precision_m: 1.1576 - val_recall_m: 1.1576\n",
            "Epoch 63/100\n",
            "247/247 [==============================] - 23s 92ms/step - loss: 0.0527 - accuracy: 0.9791 - precision_m: 1.0629 - recall_m: 1.0629 - val_loss: 13.3045 - val_accuracy: 0.3899 - val_precision_m: 1.1607 - val_recall_m: 1.1607\n",
            "Epoch 64/100\n",
            "247/247 [==============================] - 21s 86ms/step - loss: 0.0503 - accuracy: 0.9799 - precision_m: 1.0619 - recall_m: 1.0619 - val_loss: 13.3840 - val_accuracy: 0.3845 - val_precision_m: 1.1648 - val_recall_m: 1.1648\n",
            "Epoch 65/100\n",
            "247/247 [==============================] - 22s 90ms/step - loss: 0.0509 - accuracy: 0.9796 - precision_m: 1.0603 - recall_m: 1.0603 - val_loss: 13.6229 - val_accuracy: 0.3889 - val_precision_m: 1.1586 - val_recall_m: 1.1586\n",
            "Epoch 66/100\n",
            "247/247 [==============================] - 21s 86ms/step - loss: 0.0505 - accuracy: 0.9799 - precision_m: 1.0607 - recall_m: 1.0607 - val_loss: 13.7196 - val_accuracy: 0.3838 - val_precision_m: 1.1558 - val_recall_m: 1.1558\n",
            "Epoch 67/100\n",
            "247/247 [==============================] - 22s 87ms/step - loss: 0.0570 - accuracy: 0.9778 - precision_m: 1.0641 - recall_m: 1.0641 - val_loss: 13.4426 - val_accuracy: 0.3848 - val_precision_m: 1.1654 - val_recall_m: 1.1654\n",
            "Epoch 68/100\n",
            "247/247 [==============================] - 21s 87ms/step - loss: 0.0778 - accuracy: 0.9720 - precision_m: 1.0758 - recall_m: 1.0758 - val_loss: 13.0739 - val_accuracy: 0.3858 - val_precision_m: 1.1672 - val_recall_m: 1.1672\n",
            "Epoch 69/100\n",
            "247/247 [==============================] - 22s 91ms/step - loss: 0.0810 - accuracy: 0.9709 - precision_m: 1.0778 - recall_m: 1.0778 - val_loss: 12.7764 - val_accuracy: 0.3880 - val_precision_m: 1.1646 - val_recall_m: 1.1646\n",
            "Epoch 70/100\n",
            "247/247 [==============================] - 22s 88ms/step - loss: 0.0685 - accuracy: 0.9749 - precision_m: 1.0737 - recall_m: 1.0737 - val_loss: 12.4962 - val_accuracy: 0.3890 - val_precision_m: 1.1716 - val_recall_m: 1.1716\n",
            "Epoch 71/100\n",
            "247/247 [==============================] - 22s 90ms/step - loss: 0.0586 - accuracy: 0.9776 - precision_m: 1.0706 - recall_m: 1.0706 - val_loss: 12.6633 - val_accuracy: 0.3870 - val_precision_m: 1.1622 - val_recall_m: 1.1622\n",
            "Epoch 72/100\n",
            "247/247 [==============================] - 22s 90ms/step - loss: 0.0528 - accuracy: 0.9799 - precision_m: 1.0634 - recall_m: 1.0634 - val_loss: 12.8288 - val_accuracy: 0.3893 - val_precision_m: 1.1636 - val_recall_m: 1.1636\n",
            "Epoch 73/100\n",
            "247/247 [==============================] - 21s 86ms/step - loss: 0.0497 - accuracy: 0.9802 - precision_m: 1.0608 - recall_m: 1.0608 - val_loss: 13.0245 - val_accuracy: 0.3863 - val_precision_m: 1.1635 - val_recall_m: 1.1635\n",
            "Epoch 74/100\n",
            "247/247 [==============================] - 21s 86ms/step - loss: 0.0473 - accuracy: 0.9809 - precision_m: 1.0579 - recall_m: 1.0579 - val_loss: 13.2374 - val_accuracy: 0.3834 - val_precision_m: 1.1655 - val_recall_m: 1.1655\n",
            "Epoch 75/100\n",
            "247/247 [==============================] - 22s 90ms/step - loss: 0.0469 - accuracy: 0.9806 - precision_m: 1.0576 - recall_m: 1.0576 - val_loss: 13.4237 - val_accuracy: 0.3865 - val_precision_m: 1.1611 - val_recall_m: 1.1611\n",
            "Epoch 76/100\n",
            "247/247 [==============================] - 21s 86ms/step - loss: 0.0493 - accuracy: 0.9804 - precision_m: 1.0585 - recall_m: 1.0585 - val_loss: 13.5857 - val_accuracy: 0.3898 - val_precision_m: 1.1561 - val_recall_m: 1.1561\n",
            "Epoch 77/100\n",
            "247/247 [==============================] - 22s 89ms/step - loss: 0.0516 - accuracy: 0.9795 - precision_m: 1.0610 - recall_m: 1.0610 - val_loss: 13.3990 - val_accuracy: 0.3911 - val_precision_m: 1.1517 - val_recall_m: 1.1517\n",
            "Epoch 78/100\n",
            "247/247 [==============================] - 21s 86ms/step - loss: 0.0566 - accuracy: 0.9783 - precision_m: 1.0628 - recall_m: 1.0628 - val_loss: 13.4256 - val_accuracy: 0.3874 - val_precision_m: 1.1518 - val_recall_m: 1.1518\n",
            "Epoch 79/100\n",
            "247/247 [==============================] - 21s 86ms/step - loss: 0.0661 - accuracy: 0.9748 - precision_m: 1.0712 - recall_m: 1.0712 - val_loss: 13.1468 - val_accuracy: 0.3871 - val_precision_m: 1.1544 - val_recall_m: 1.1544\n",
            "Epoch 80/100\n",
            "247/247 [==============================] - 21s 86ms/step - loss: 0.0616 - accuracy: 0.9770 - precision_m: 1.0695 - recall_m: 1.0695 - val_loss: 13.1205 - val_accuracy: 0.3862 - val_precision_m: 1.1619 - val_recall_m: 1.1619\n",
            "Epoch 81/100\n",
            "247/247 [==============================] - 23s 91ms/step - loss: 0.0584 - accuracy: 0.9773 - precision_m: 1.0668 - recall_m: 1.0668 - val_loss: 13.1855 - val_accuracy: 0.3854 - val_precision_m: 1.1611 - val_recall_m: 1.1611\n",
            "Epoch 82/100\n",
            "247/247 [==============================] - 21s 87ms/step - loss: 0.0517 - accuracy: 0.9798 - precision_m: 1.0637 - recall_m: 1.0637 - val_loss: 13.2947 - val_accuracy: 0.3890 - val_precision_m: 1.1600 - val_recall_m: 1.1600\n",
            "Epoch 83/100\n",
            "247/247 [==============================] - 22s 88ms/step - loss: 0.0484 - accuracy: 0.9804 - precision_m: 1.0599 - recall_m: 1.0599 - val_loss: 13.4282 - val_accuracy: 0.3889 - val_precision_m: 1.1596 - val_recall_m: 1.1596\n",
            "Epoch 84/100\n",
            "204/247 [=======================>......] - ETA: 3s - loss: 0.0446 - accuracy: 0.9817 - precision_m: 1.0565 - recall_m: 1.0565"
          ]
        }
      ]
    },
    {
      "cell_type": "code",
      "source": [],
      "metadata": {
        "id": "PM8jtKC4b8KP"
      },
      "execution_count": null,
      "outputs": []
    },
    {
      "cell_type": "markdown",
      "source": [
        "#for higher epochs the model is producing better accuracy (might be overfitting) still need to explore and implement a solution for better performance."
      ],
      "metadata": {
        "id": "ExvZOkBVoA20"
      }
    },
    {
      "cell_type": "code",
      "source": [],
      "metadata": {
        "id": "YjBxeXlSoODK"
      },
      "execution_count": null,
      "outputs": []
    },
    {
      "cell_type": "markdown",
      "source": [
        "#B) Text summarization"
      ],
      "metadata": {
        "id": "oS1uJyMdoQEF"
      }
    },
    {
      "cell_type": "code",
      "source": [
        "# !pip install sumy"
      ],
      "metadata": {
        "colab": {
          "base_uri": "https://localhost:8080/"
        },
        "id": "yIsEZk49o7fY",
        "outputId": "11454ad6-b533-4c0f-ccc0-b539ae55e1c9"
      },
      "execution_count": 104,
      "outputs": [
        {
          "output_type": "stream",
          "name": "stdout",
          "text": [
            "Looking in indexes: https://pypi.org/simple, https://us-python.pkg.dev/colab-wheels/public/simple/\n",
            "Collecting sumy\n",
            "  Downloading sumy-0.11.0-py2.py3-none-any.whl (97 kB)\n",
            "\u001b[2K     \u001b[90m━━━━━━━━━━━━━━━━━━━━━━━━━━━━━━━━━━━━━━━━\u001b[0m \u001b[32m97.3/97.3 kB\u001b[0m \u001b[31m5.5 MB/s\u001b[0m eta \u001b[36m0:00:00\u001b[0m\n",
            "\u001b[?25hCollecting pycountry>=18.2.23\n",
            "  Downloading pycountry-22.3.5.tar.gz (10.1 MB)\n",
            "\u001b[2K     \u001b[90m━━━━━━━━━━━━━━━━━━━━━━━━━━━━━━━━━━━━━━━━\u001b[0m \u001b[32m10.1/10.1 MB\u001b[0m \u001b[31m60.0 MB/s\u001b[0m eta \u001b[36m0:00:00\u001b[0m\n",
            "\u001b[?25h  Installing build dependencies ... \u001b[?25l\u001b[?25hdone\n",
            "  Getting requirements to build wheel ... \u001b[?25l\u001b[?25hdone\n",
            "  Preparing metadata (pyproject.toml) ... \u001b[?25l\u001b[?25hdone\n",
            "Requirement already satisfied: nltk>=3.0.2 in /usr/local/lib/python3.9/dist-packages (from sumy) (3.8.1)\n",
            "Collecting breadability>=0.1.20\n",
            "  Downloading breadability-0.1.20.tar.gz (32 kB)\n",
            "  Preparing metadata (setup.py) ... \u001b[?25l\u001b[?25hdone\n",
            "Collecting docopt<0.7,>=0.6.1\n",
            "  Downloading docopt-0.6.2.tar.gz (25 kB)\n",
            "  Preparing metadata (setup.py) ... \u001b[?25l\u001b[?25hdone\n",
            "Requirement already satisfied: requests>=2.7.0 in /usr/local/lib/python3.9/dist-packages (from sumy) (2.27.1)\n",
            "Requirement already satisfied: chardet in /usr/local/lib/python3.9/dist-packages (from breadability>=0.1.20->sumy) (4.0.0)\n",
            "Requirement already satisfied: lxml>=2.0 in /usr/local/lib/python3.9/dist-packages (from breadability>=0.1.20->sumy) (4.9.2)\n",
            "Requirement already satisfied: regex>=2021.8.3 in /usr/local/lib/python3.9/dist-packages (from nltk>=3.0.2->sumy) (2022.10.31)\n",
            "Requirement already satisfied: tqdm in /usr/local/lib/python3.9/dist-packages (from nltk>=3.0.2->sumy) (4.65.0)\n",
            "Requirement already satisfied: joblib in /usr/local/lib/python3.9/dist-packages (from nltk>=3.0.2->sumy) (1.2.0)\n",
            "Requirement already satisfied: click in /usr/local/lib/python3.9/dist-packages (from nltk>=3.0.2->sumy) (8.1.3)\n",
            "Requirement already satisfied: setuptools in /usr/local/lib/python3.9/dist-packages (from pycountry>=18.2.23->sumy) (67.7.1)\n",
            "Requirement already satisfied: urllib3<1.27,>=1.21.1 in /usr/local/lib/python3.9/dist-packages (from requests>=2.7.0->sumy) (1.26.15)\n",
            "Requirement already satisfied: idna<4,>=2.5 in /usr/local/lib/python3.9/dist-packages (from requests>=2.7.0->sumy) (3.4)\n",
            "Requirement already satisfied: charset-normalizer~=2.0.0 in /usr/local/lib/python3.9/dist-packages (from requests>=2.7.0->sumy) (2.0.12)\n",
            "Requirement already satisfied: certifi>=2017.4.17 in /usr/local/lib/python3.9/dist-packages (from requests>=2.7.0->sumy) (2022.12.7)\n",
            "Building wheels for collected packages: breadability, docopt, pycountry\n",
            "  Building wheel for breadability (setup.py) ... \u001b[?25l\u001b[?25hdone\n",
            "  Created wheel for breadability: filename=breadability-0.1.20-py2.py3-none-any.whl size=21708 sha256=154cb682e01de713cfc639e158998bae37d4baf6a0cac82e1efee35a3b926699\n",
            "  Stored in directory: /root/.cache/pip/wheels/ba/9f/70/7795228568b81b57a8932755938da9fb1f291b0576752604aa\n",
            "  Building wheel for docopt (setup.py) ... \u001b[?25l\u001b[?25hdone\n",
            "  Created wheel for docopt: filename=docopt-0.6.2-py2.py3-none-any.whl size=13721 sha256=77cece6ab4dc20b47752d37fa4b4563001bef2f18eef70b9464d684cc25614b3\n",
            "  Stored in directory: /root/.cache/pip/wheels/70/4a/46/1309fc853b8d395e60bafaf1b6df7845bdd82c95fd59dd8d2b\n",
            "  Building wheel for pycountry (pyproject.toml) ... \u001b[?25l\u001b[?25hdone\n",
            "  Created wheel for pycountry: filename=pycountry-22.3.5-py2.py3-none-any.whl size=10681847 sha256=bdca3281ae14e679f89629705594232590716e2a56231feea58f70b8bb8cf192\n",
            "  Stored in directory: /root/.cache/pip/wheels/47/15/92/e6dc85fcb0686c82e1edbcfdf80cfe4808c058813fed0baa8f\n",
            "Successfully built breadability docopt pycountry\n",
            "Installing collected packages: docopt, pycountry, breadability, sumy\n",
            "Successfully installed breadability-0.1.20 docopt-0.6.2 pycountry-22.3.5 sumy-0.11.0\n"
          ]
        }
      ]
    },
    {
      "cell_type": "code",
      "source": [
        "from sumy.summarizers.text_rank import TextRankSummarizer"
      ],
      "metadata": {
        "id": "hPkegfpCoSnA"
      },
      "execution_count": 105,
      "outputs": []
    },
    {
      "cell_type": "code",
      "source": [
        "f.head()"
      ],
      "metadata": {
        "colab": {
          "base_uri": "https://localhost:8080/",
          "height": 206
        },
        "id": "tAvMCYCqqYTx",
        "outputId": "ebf9b5a1-e662-418f-e42f-e9c6b4ccf06f"
      },
      "execution_count": 108,
      "outputs": [
        {
          "output_type": "execute_result",
          "data": {
            "text/plain": [
              "   conversation_id                                            message  \\\n",
              "0                1              Are you a fan of Google or Microsoft?   \n",
              "1                1  Both are excellent technology they are helpful...   \n",
              "2                1   I'm not  a huge fan of Google, but I use it a...   \n",
              "3                1   Google provides online related services and p...   \n",
              "4                1   Yeah, their services are good. I'm just not a...   \n",
              "\n",
              "                sentiment  \n",
              "0  Curious to dive deeper  \n",
              "1  Curious to dive deeper  \n",
              "2  Curious to dive deeper  \n",
              "3  Curious to dive deeper  \n",
              "4  Curious to dive deeper  "
            ],
            "text/html": [
              "\n",
              "  <div id=\"df-9a672455-4884-4f84-ba90-14de8249100c\">\n",
              "    <div class=\"colab-df-container\">\n",
              "      <div>\n",
              "<style scoped>\n",
              "    .dataframe tbody tr th:only-of-type {\n",
              "        vertical-align: middle;\n",
              "    }\n",
              "\n",
              "    .dataframe tbody tr th {\n",
              "        vertical-align: top;\n",
              "    }\n",
              "\n",
              "    .dataframe thead th {\n",
              "        text-align: right;\n",
              "    }\n",
              "</style>\n",
              "<table border=\"1\" class=\"dataframe\">\n",
              "  <thead>\n",
              "    <tr style=\"text-align: right;\">\n",
              "      <th></th>\n",
              "      <th>conversation_id</th>\n",
              "      <th>message</th>\n",
              "      <th>sentiment</th>\n",
              "    </tr>\n",
              "  </thead>\n",
              "  <tbody>\n",
              "    <tr>\n",
              "      <th>0</th>\n",
              "      <td>1</td>\n",
              "      <td>Are you a fan of Google or Microsoft?</td>\n",
              "      <td>Curious to dive deeper</td>\n",
              "    </tr>\n",
              "    <tr>\n",
              "      <th>1</th>\n",
              "      <td>1</td>\n",
              "      <td>Both are excellent technology they are helpful...</td>\n",
              "      <td>Curious to dive deeper</td>\n",
              "    </tr>\n",
              "    <tr>\n",
              "      <th>2</th>\n",
              "      <td>1</td>\n",
              "      <td>I'm not  a huge fan of Google, but I use it a...</td>\n",
              "      <td>Curious to dive deeper</td>\n",
              "    </tr>\n",
              "    <tr>\n",
              "      <th>3</th>\n",
              "      <td>1</td>\n",
              "      <td>Google provides online related services and p...</td>\n",
              "      <td>Curious to dive deeper</td>\n",
              "    </tr>\n",
              "    <tr>\n",
              "      <th>4</th>\n",
              "      <td>1</td>\n",
              "      <td>Yeah, their services are good. I'm just not a...</td>\n",
              "      <td>Curious to dive deeper</td>\n",
              "    </tr>\n",
              "  </tbody>\n",
              "</table>\n",
              "</div>\n",
              "      <button class=\"colab-df-convert\" onclick=\"convertToInteractive('df-9a672455-4884-4f84-ba90-14de8249100c')\"\n",
              "              title=\"Convert this dataframe to an interactive table.\"\n",
              "              style=\"display:none;\">\n",
              "        \n",
              "  <svg xmlns=\"http://www.w3.org/2000/svg\" height=\"24px\"viewBox=\"0 0 24 24\"\n",
              "       width=\"24px\">\n",
              "    <path d=\"M0 0h24v24H0V0z\" fill=\"none\"/>\n",
              "    <path d=\"M18.56 5.44l.94 2.06.94-2.06 2.06-.94-2.06-.94-.94-2.06-.94 2.06-2.06.94zm-11 1L8.5 8.5l.94-2.06 2.06-.94-2.06-.94L8.5 2.5l-.94 2.06-2.06.94zm10 10l.94 2.06.94-2.06 2.06-.94-2.06-.94-.94-2.06-.94 2.06-2.06.94z\"/><path d=\"M17.41 7.96l-1.37-1.37c-.4-.4-.92-.59-1.43-.59-.52 0-1.04.2-1.43.59L10.3 9.45l-7.72 7.72c-.78.78-.78 2.05 0 2.83L4 21.41c.39.39.9.59 1.41.59.51 0 1.02-.2 1.41-.59l7.78-7.78 2.81-2.81c.8-.78.8-2.07 0-2.86zM5.41 20L4 18.59l7.72-7.72 1.47 1.35L5.41 20z\"/>\n",
              "  </svg>\n",
              "      </button>\n",
              "      \n",
              "  <style>\n",
              "    .colab-df-container {\n",
              "      display:flex;\n",
              "      flex-wrap:wrap;\n",
              "      gap: 12px;\n",
              "    }\n",
              "\n",
              "    .colab-df-convert {\n",
              "      background-color: #E8F0FE;\n",
              "      border: none;\n",
              "      border-radius: 50%;\n",
              "      cursor: pointer;\n",
              "      display: none;\n",
              "      fill: #1967D2;\n",
              "      height: 32px;\n",
              "      padding: 0 0 0 0;\n",
              "      width: 32px;\n",
              "    }\n",
              "\n",
              "    .colab-df-convert:hover {\n",
              "      background-color: #E2EBFA;\n",
              "      box-shadow: 0px 1px 2px rgba(60, 64, 67, 0.3), 0px 1px 3px 1px rgba(60, 64, 67, 0.15);\n",
              "      fill: #174EA6;\n",
              "    }\n",
              "\n",
              "    [theme=dark] .colab-df-convert {\n",
              "      background-color: #3B4455;\n",
              "      fill: #D2E3FC;\n",
              "    }\n",
              "\n",
              "    [theme=dark] .colab-df-convert:hover {\n",
              "      background-color: #434B5C;\n",
              "      box-shadow: 0px 1px 3px 1px rgba(0, 0, 0, 0.15);\n",
              "      filter: drop-shadow(0px 1px 2px rgba(0, 0, 0, 0.3));\n",
              "      fill: #FFFFFF;\n",
              "    }\n",
              "  </style>\n",
              "\n",
              "      <script>\n",
              "        const buttonEl =\n",
              "          document.querySelector('#df-9a672455-4884-4f84-ba90-14de8249100c button.colab-df-convert');\n",
              "        buttonEl.style.display =\n",
              "          google.colab.kernel.accessAllowed ? 'block' : 'none';\n",
              "\n",
              "        async function convertToInteractive(key) {\n",
              "          const element = document.querySelector('#df-9a672455-4884-4f84-ba90-14de8249100c');\n",
              "          const dataTable =\n",
              "            await google.colab.kernel.invokeFunction('convertToInteractive',\n",
              "                                                     [key], {});\n",
              "          if (!dataTable) return;\n",
              "\n",
              "          const docLinkHtml = 'Like what you see? Visit the ' +\n",
              "            '<a target=\"_blank\" href=https://colab.research.google.com/notebooks/data_table.ipynb>data table notebook</a>'\n",
              "            + ' to learn more about interactive tables.';\n",
              "          element.innerHTML = '';\n",
              "          dataTable['output_type'] = 'display_data';\n",
              "          await google.colab.output.renderOutput(dataTable, element);\n",
              "          const docLink = document.createElement('div');\n",
              "          docLink.innerHTML = docLinkHtml;\n",
              "          element.appendChild(docLink);\n",
              "        }\n",
              "      </script>\n",
              "    </div>\n",
              "  </div>\n",
              "  "
            ]
          },
          "metadata": {},
          "execution_count": 108
        }
      ]
    },
    {
      "cell_type": "code",
      "source": [
        "# Generate the summaries\n",
        "summarizer = TextRankSummarizer()\n",
        "summaries = []\n",
        "for convo_id, convo in f.groupby('conversation_id'):\n",
        "    summary = summarizer(convo['message'].tolist(), sentences_count=1)\n",
        "    summary = ' '.join(summary)\n",
        "    summaries.append((convo_id, summary))\n",
        "\n",
        "    if len(summaries) == 100:\n",
        "        break\n",
        "\n",
        "# Save the summaries to a file\n",
        "with open('summaries.txt', 'w') as f:\n",
        "    for summary in summaries:\n",
        "        f.write('Conversation ID: {}\\nSummary: {}\\n\\n'.format(summary[0], summary[1]))"
      ],
      "metadata": {
        "colab": {
          "base_uri": "https://localhost:8080/",
          "height": 235
        },
        "id": "YIvXdG2Poejn",
        "outputId": "01b23536-4769-40f5-a9d2-5830ffc28d78"
      },
      "execution_count": 112,
      "outputs": [
        {
          "output_type": "error",
          "ename": "TypeError",
          "evalue": "ignored",
          "traceback": [
            "\u001b[0;31m---------------------------------------------------------------------------\u001b[0m",
            "\u001b[0;31mTypeError\u001b[0m                                 Traceback (most recent call last)",
            "\u001b[0;32m<ipython-input-112-d23601f9da06>\u001b[0m in \u001b[0;36m<cell line: 4>\u001b[0;34m()\u001b[0m\n\u001b[1;32m      3\u001b[0m \u001b[0msummaries\u001b[0m \u001b[0;34m=\u001b[0m \u001b[0;34m[\u001b[0m\u001b[0;34m]\u001b[0m\u001b[0;34m\u001b[0m\u001b[0;34m\u001b[0m\u001b[0m\n\u001b[1;32m      4\u001b[0m \u001b[0;32mfor\u001b[0m \u001b[0mconvo_id\u001b[0m\u001b[0;34m,\u001b[0m \u001b[0mconvo\u001b[0m \u001b[0;32min\u001b[0m \u001b[0mf\u001b[0m\u001b[0;34m.\u001b[0m\u001b[0mgroupby\u001b[0m\u001b[0;34m(\u001b[0m\u001b[0;34m'conversation_id'\u001b[0m\u001b[0;34m)\u001b[0m\u001b[0;34m:\u001b[0m\u001b[0;34m\u001b[0m\u001b[0;34m\u001b[0m\u001b[0m\n\u001b[0;32m----> 5\u001b[0;31m     \u001b[0msummary\u001b[0m \u001b[0;34m=\u001b[0m \u001b[0msummarizer\u001b[0m\u001b[0;34m(\u001b[0m\u001b[0mconvo\u001b[0m\u001b[0;34m[\u001b[0m\u001b[0;34m'message'\u001b[0m\u001b[0;34m]\u001b[0m\u001b[0;34m.\u001b[0m\u001b[0mtolist\u001b[0m\u001b[0;34m(\u001b[0m\u001b[0;34m)\u001b[0m\u001b[0;34m)\u001b[0m\u001b[0;31m#, sentences_count=1)\u001b[0m\u001b[0;34m\u001b[0m\u001b[0;34m\u001b[0m\u001b[0m\n\u001b[0m\u001b[1;32m      6\u001b[0m     \u001b[0msummary\u001b[0m \u001b[0;34m=\u001b[0m \u001b[0;34m' '\u001b[0m\u001b[0;34m.\u001b[0m\u001b[0mjoin\u001b[0m\u001b[0;34m(\u001b[0m\u001b[0msummary\u001b[0m\u001b[0;34m)\u001b[0m\u001b[0;34m\u001b[0m\u001b[0;34m\u001b[0m\u001b[0m\n\u001b[1;32m      7\u001b[0m     \u001b[0msummaries\u001b[0m\u001b[0;34m.\u001b[0m\u001b[0mappend\u001b[0m\u001b[0;34m(\u001b[0m\u001b[0;34m(\u001b[0m\u001b[0mconvo_id\u001b[0m\u001b[0;34m,\u001b[0m \u001b[0msummary\u001b[0m\u001b[0;34m)\u001b[0m\u001b[0;34m)\u001b[0m\u001b[0;34m\u001b[0m\u001b[0;34m\u001b[0m\u001b[0m\n",
            "\u001b[0;31mTypeError\u001b[0m: __call__() missing 1 required positional argument: 'sentences_count'"
          ]
        }
      ]
    },
    {
      "cell_type": "code",
      "source": [],
      "metadata": {
        "id": "TVbLapPuqVH5"
      },
      "execution_count": null,
      "outputs": []
    }
  ]
}